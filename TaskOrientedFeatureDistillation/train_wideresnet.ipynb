{
 "cells": [
  {
   "cell_type": "markdown",
   "id": "aa3a0fd4",
   "metadata": {},
   "source": [
    "# Libraries"
   ]
  },
  {
   "cell_type": "code",
   "execution_count": 1,
   "id": "84dcc2e1",
   "metadata": {},
   "outputs": [],
   "source": [
    "import os\n",
    "import time\n",
    "from datetime import datetime\n",
    "import random\n",
    "\n",
    "import numpy as np\n",
    "import matplotlib.pyplot as plt\n",
    "from tqdm import tqdm\n",
    "import torch\n",
    "import torch.nn as nn\n",
    "from torchvision import transforms\n",
    "from torch.utils.data import Dataset, DataLoader\n",
    "from torch.optim import SGD, Adam, AdamW\n",
    "from torch.optim.lr_scheduler import ReduceLROnPlateau, CosineAnnealingLR, CosineAnnealingWarmRestarts, MultiStepLR\n",
    "import torch.nn.init as init\n",
    "import torch.nn.functional as F\n",
    "\n",
    "from sklearn.metrics import accuracy_score\n",
    "from sklearn.model_selection import train_test_split\n",
    "\n",
    "from models.wideresnet import WideResNet\n",
    "from utils import *"
   ]
  },
  {
   "cell_type": "code",
   "execution_count": 2,
   "id": "adc15b78",
   "metadata": {},
   "outputs": [
    {
     "data": {
      "text/plain": [
       "device(type='cuda', index=2)"
      ]
     },
     "execution_count": 2,
     "metadata": {},
     "output_type": "execute_result"
    }
   ],
   "source": [
    "device = torch.device('cuda:2' if torch.cuda.is_available() else 'cpu')\n",
    "device"
   ]
  },
  {
   "cell_type": "markdown",
   "id": "ecb75cc9",
   "metadata": {},
   "source": [
    "# Configuration"
   ]
  },
  {
   "cell_type": "code",
   "execution_count": 3,
   "id": "20bd7463",
   "metadata": {},
   "outputs": [],
   "source": [
    "class CFG:\n",
    "    debug = False\n",
    "    num_workers = 4\n",
    "    batch_size = 128\n",
    "    epochs = 200\n",
    "    lr = 0.1\n",
    "    weight_decay = 5e-4\n",
    "    seed = 42\n",
    "    \n",
    "    #Multistep Scheduler\n",
    "    milestones = [60, 120, 160]\n",
    "    gamma = 0.2\n",
    "    \n",
    "    #LOGS\n",
    "    LOGS_DIR = './logs'\n",
    "    log_file = \"wideresnet-16-1.log\""
   ]
  },
  {
   "cell_type": "markdown",
   "id": "02a8bac9",
   "metadata": {},
   "source": [
    "# Utilities"
   ]
  },
  {
   "cell_type": "code",
   "execution_count": 4,
   "id": "5aa87c8c",
   "metadata": {},
   "outputs": [],
   "source": [
    "def init_logger(log_file=os.path.join(CFG.LOGS_DIR, datetime.now().strftime(\"%d-%m-%Y %H:%M:%S\"))):\n",
    "    from logging import getLogger, INFO, FileHandler,  Formatter,  StreamHandler\n",
    "    logger = getLogger(__name__)\n",
    "    logger.setLevel(INFO)\n",
    "    handler1 = StreamHandler()\n",
    "    handler1.setFormatter(Formatter(\"%(message)s\"))\n",
    "    handler2 = FileHandler(filename=log_file)\n",
    "    handler2.setFormatter(Formatter(\"%(message)s\"))\n",
    "    logger.addHandler(handler1)\n",
    "    logger.addHandler(handler2)\n",
    "    return logger\n",
    "\n",
    "if CFG.debug:\n",
    "    LOGGER = init_logger('debug.log')\n",
    "else:\n",
    "    LOGGER = init_logger(os.path.join(CFG.LOGS_DIR, CFG.log_file))"
   ]
  },
  {
   "cell_type": "code",
   "execution_count": 5,
   "id": "0fa13352",
   "metadata": {},
   "outputs": [
    {
     "data": {
      "text/plain": [
       "'23-06-2022 07:04:54'"
      ]
     },
     "execution_count": 5,
     "metadata": {},
     "output_type": "execute_result"
    }
   ],
   "source": [
    "datetime.now().strftime(\"%d-%m-%Y %H:%M:%S\")"
   ]
  },
  {
   "cell_type": "code",
   "execution_count": 6,
   "id": "492bfa18",
   "metadata": {},
   "outputs": [],
   "source": [
    "def seed_torch(seed=42):\n",
    "    random.seed(seed)\n",
    "    os.environ['PYTHONHASHSEED'] = str(seed)\n",
    "    np.random.seed(seed)\n",
    "    torch.manual_seed(seed)\n",
    "    torch.cuda.manual_seed(seed)\n",
    "    torch.backends.cudnn.deterministic = True\n",
    "\n",
    "seed_torch(CFG.seed)"
   ]
  },
  {
   "cell_type": "markdown",
   "id": "823a74aa",
   "metadata": {},
   "source": [
    "# Dataset"
   ]
  },
  {
   "cell_type": "code",
   "execution_count": 7,
   "id": "fd7564d2",
   "metadata": {},
   "outputs": [],
   "source": [
    "def unpickle(file):\n",
    "    import pickle\n",
    "    with open(file, 'rb') as fo:\n",
    "        dict = pickle.load(fo, encoding='bytes')\n",
    "    return dict"
   ]
  },
  {
   "cell_type": "code",
   "execution_count": 8,
   "id": "11e9e2f8",
   "metadata": {},
   "outputs": [],
   "source": [
    "BASE_DIR = \"cifar-10-batches-py\""
   ]
  },
  {
   "cell_type": "code",
   "execution_count": 9,
   "id": "233d9440",
   "metadata": {},
   "outputs": [],
   "source": [
    "data = np.empty((0, 3072))\n",
    "labels = []\n",
    "for i in range(1,6):\n",
    "    path = os.path.join(BASE_DIR, f\"data_batch_{i}\")\n",
    "    dict = unpickle(path)\n",
    "    data = np.vstack((data, dict[b'data']))\n",
    "    labels.extend(dict[b'labels'])"
   ]
  },
  {
   "cell_type": "code",
   "execution_count": 10,
   "id": "2f560485",
   "metadata": {},
   "outputs": [],
   "source": [
    "train_data, valid_data, train_labels, valid_labels = train_test_split(data, labels, test_size=0.1, random_state=CFG.seed)"
   ]
  },
  {
   "cell_type": "code",
   "execution_count": 11,
   "id": "5d3ad7ab",
   "metadata": {},
   "outputs": [],
   "source": [
    "class CifarDataset(Dataset):\n",
    "    def __init__(self, data, labels, transform=None):\n",
    "        self.data = np.transpose(data.reshape(data.shape[0], 3, 32, 32), (0, 2, 3, 1))/255\n",
    "        \n",
    "        self.labels = np.array(labels)\n",
    "        self.transform = transform\n",
    "\n",
    "    def __len__(self):\n",
    "        return self.data.shape[0]\n",
    "\n",
    "    def __getitem__(self, idx):\n",
    "        if self.transform:\n",
    "            image = self.transform(self.data[idx])\n",
    "        else:\n",
    "            image = torch.tensor(self.data[idx])\n",
    "        label = torch.tensor(self.labels[idx])\n",
    "        return image, label"
   ]
  },
  {
   "cell_type": "code",
   "execution_count": 12,
   "id": "52ed67f1",
   "metadata": {},
   "outputs": [],
   "source": [
    "transform_train = transforms.Compose(\n",
    "                [\n",
    "                    transforms.ToTensor(),\n",
    "                    transforms.Pad(4, padding_mode='reflect'),\n",
    "                    transforms.RandomHorizontalFlip(p=0.5),\n",
    "                    transforms.RandomCrop(32),\n",
    "                    \n",
    "                    transforms.Normalize((0.4914, 0.4822, 0.4465), (0.247, 0.243, 0.261))\n",
    "                ]\n",
    "            )\n",
    "\n",
    "transform_test = transforms.Compose(\n",
    "                [\n",
    "                    transforms.ToTensor(),\n",
    "                    transforms.Normalize((0.4914, 0.4822, 0.4465), (0.247, 0.243, 0.261))\n",
    "                ]\n",
    "            )"
   ]
  },
  {
   "cell_type": "code",
   "execution_count": 13,
   "id": "dd135021",
   "metadata": {},
   "outputs": [],
   "source": [
    "train_dataset = CifarDataset(train_data, train_labels, transform_train)\n",
    "valid_dataset = CifarDataset(valid_data, valid_labels, transform_test)"
   ]
  },
  {
   "cell_type": "code",
   "execution_count": 14,
   "id": "c15e4e26",
   "metadata": {},
   "outputs": [],
   "source": [
    "def show_img(x):\n",
    "    img, label = x\n",
    "    print(label)\n",
    "    plt.imshow(torch.permute(img, (1,2,0)))"
   ]
  },
  {
   "cell_type": "code",
   "execution_count": 15,
   "id": "15f9c832",
   "metadata": {},
   "outputs": [
    {
     "name": "stderr",
     "output_type": "stream",
     "text": [
      "Clipping input data to the valid range for imshow with RGB data ([0..1] for floats or [0..255] for integers).\n"
     ]
    },
    {
     "name": "stdout",
     "output_type": "stream",
     "text": [
      "tensor(6)\n"
     ]
    },
    {
     "data": {
      "image/png": "[encoded data removed]",
      "text/plain": [
       "<Figure size 432x288 with 1 Axes>"
      ]
     },
     "metadata": {
      "needs_background": "light"
     },
     "output_type": "display_data"
    }
   ],
   "source": [
    "show_img(train_dataset[90])"
   ]
  },
  {
   "cell_type": "code",
   "execution_count": 16,
   "id": "87dd03da",
   "metadata": {},
   "outputs": [],
   "source": [
    "path = os.path.join(BASE_DIR, f\"test_batch\")\n",
    "dict = unpickle(path)\n",
    "data = dict[b'data']\n",
    "labels = dict[b'labels']"
   ]
  },
  {
   "cell_type": "code",
   "execution_count": 17,
   "id": "e2621ce8",
   "metadata": {},
   "outputs": [],
   "source": [
    "test_dataset = CifarDataset(data, labels, transform_test)"
   ]
  },
  {
   "cell_type": "code",
   "execution_count": 18,
   "id": "f106718e",
   "metadata": {},
   "outputs": [],
   "source": [
    "train_loader = DataLoader(train_dataset, batch_size=CFG.batch_size, shuffle=True,\n",
    "                          num_workers=CFG.num_workers, pin_memory=True, drop_last=False)\n",
    "valid_loader = DataLoader(valid_dataset, batch_size=CFG.batch_size, shuffle=True,\n",
    "                          num_workers=CFG.num_workers, pin_memory=True, drop_last=False)"
   ]
  },
  {
   "cell_type": "markdown",
   "id": "180c8f0b",
   "metadata": {},
   "source": [
    "# Model"
   ]
  },
  {
   "cell_type": "code",
   "execution_count": 19,
   "id": "f37c6f92",
   "metadata": {},
   "outputs": [
    {
     "data": {
      "text/plain": [
       "WideResNet(\n",
       "  (conv1): Conv2d(3, 16, kernel_size=(3, 3), stride=(1, 1), padding=(1, 1), bias=False)\n",
       "  (block1): NetworkBlock(\n",
       "    (layer): Sequential(\n",
       "      (0): BasicBlock(\n",
       "        (bn1): BatchNorm2d(16, eps=1e-05, momentum=0.1, affine=True, track_running_stats=True)\n",
       "        (relu1): ReLU(inplace=True)\n",
       "        (conv1): Conv2d(16, 16, kernel_size=(3, 3), stride=(1, 1), padding=(1, 1), bias=False)\n",
       "        (bn2): BatchNorm2d(16, eps=1e-05, momentum=0.1, affine=True, track_running_stats=True)\n",
       "        (relu2): ReLU(inplace=True)\n",
       "        (conv2): Conv2d(16, 16, kernel_size=(3, 3), stride=(1, 1), padding=(1, 1), bias=False)\n",
       "      )\n",
       "      (1): BasicBlock(\n",
       "        (bn1): BatchNorm2d(16, eps=1e-05, momentum=0.1, affine=True, track_running_stats=True)\n",
       "        (relu1): ReLU(inplace=True)\n",
       "        (conv1): Conv2d(16, 16, kernel_size=(3, 3), stride=(1, 1), padding=(1, 1), bias=False)\n",
       "        (bn2): BatchNorm2d(16, eps=1e-05, momentum=0.1, affine=True, track_running_stats=True)\n",
       "        (relu2): ReLU(inplace=True)\n",
       "        (conv2): Conv2d(16, 16, kernel_size=(3, 3), stride=(1, 1), padding=(1, 1), bias=False)\n",
       "      )\n",
       "    )\n",
       "  )\n",
       "  (block2): NetworkBlock(\n",
       "    (layer): Sequential(\n",
       "      (0): BasicBlock(\n",
       "        (bn1): BatchNorm2d(16, eps=1e-05, momentum=0.1, affine=True, track_running_stats=True)\n",
       "        (relu1): ReLU(inplace=True)\n",
       "        (conv1): Conv2d(16, 32, kernel_size=(3, 3), stride=(2, 2), padding=(1, 1), bias=False)\n",
       "        (bn2): BatchNorm2d(32, eps=1e-05, momentum=0.1, affine=True, track_running_stats=True)\n",
       "        (relu2): ReLU(inplace=True)\n",
       "        (conv2): Conv2d(32, 32, kernel_size=(3, 3), stride=(1, 1), padding=(1, 1), bias=False)\n",
       "        (convShortcut): Conv2d(16, 32, kernel_size=(1, 1), stride=(2, 2), bias=False)\n",
       "      )\n",
       "      (1): BasicBlock(\n",
       "        (bn1): BatchNorm2d(32, eps=1e-05, momentum=0.1, affine=True, track_running_stats=True)\n",
       "        (relu1): ReLU(inplace=True)\n",
       "        (conv1): Conv2d(32, 32, kernel_size=(3, 3), stride=(1, 1), padding=(1, 1), bias=False)\n",
       "        (bn2): BatchNorm2d(32, eps=1e-05, momentum=0.1, affine=True, track_running_stats=True)\n",
       "        (relu2): ReLU(inplace=True)\n",
       "        (conv2): Conv2d(32, 32, kernel_size=(3, 3), stride=(1, 1), padding=(1, 1), bias=False)\n",
       "      )\n",
       "    )\n",
       "  )\n",
       "  (block3): NetworkBlock(\n",
       "    (layer): Sequential(\n",
       "      (0): BasicBlock(\n",
       "        (bn1): BatchNorm2d(32, eps=1e-05, momentum=0.1, affine=True, track_running_stats=True)\n",
       "        (relu1): ReLU(inplace=True)\n",
       "        (conv1): Conv2d(32, 64, kernel_size=(3, 3), stride=(2, 2), padding=(1, 1), bias=False)\n",
       "        (bn2): BatchNorm2d(64, eps=1e-05, momentum=0.1, affine=True, track_running_stats=True)\n",
       "        (relu2): ReLU(inplace=True)\n",
       "        (conv2): Conv2d(64, 64, kernel_size=(3, 3), stride=(1, 1), padding=(1, 1), bias=False)\n",
       "        (convShortcut): Conv2d(32, 64, kernel_size=(1, 1), stride=(2, 2), bias=False)\n",
       "      )\n",
       "      (1): BasicBlock(\n",
       "        (bn1): BatchNorm2d(64, eps=1e-05, momentum=0.1, affine=True, track_running_stats=True)\n",
       "        (relu1): ReLU(inplace=True)\n",
       "        (conv1): Conv2d(64, 64, kernel_size=(3, 3), stride=(1, 1), padding=(1, 1), bias=False)\n",
       "        (bn2): BatchNorm2d(64, eps=1e-05, momentum=0.1, affine=True, track_running_stats=True)\n",
       "        (relu2): ReLU(inplace=True)\n",
       "        (conv2): Conv2d(64, 64, kernel_size=(3, 3), stride=(1, 1), padding=(1, 1), bias=False)\n",
       "      )\n",
       "    )\n",
       "  )\n",
       "  (auxiliary1): Sequential(\n",
       "    (0): SepConv(\n",
       "      (op): Sequential(\n",
       "        (0): Conv2d(16, 16, kernel_size=(3, 3), stride=(2, 2), padding=(1, 1), groups=16, bias=False)\n",
       "        (1): Conv2d(16, 16, kernel_size=(1, 1), stride=(1, 1), bias=False)\n",
       "        (2): BatchNorm2d(16, eps=1e-05, momentum=0.1, affine=True, track_running_stats=True)\n",
       "        (3): ReLU()\n",
       "        (4): Conv2d(16, 16, kernel_size=(3, 3), stride=(1, 1), padding=(1, 1), groups=16, bias=False)\n",
       "        (5): Conv2d(16, 32, kernel_size=(1, 1), stride=(1, 1), bias=False)\n",
       "        (6): BatchNorm2d(32, eps=1e-05, momentum=0.1, affine=True, track_running_stats=True)\n",
       "        (7): ReLU()\n",
       "      )\n",
       "    )\n",
       "    (1): SepConv(\n",
       "      (op): Sequential(\n",
       "        (0): Conv2d(32, 32, kernel_size=(3, 3), stride=(2, 2), padding=(1, 1), groups=32, bias=False)\n",
       "        (1): Conv2d(32, 32, kernel_size=(1, 1), stride=(1, 1), bias=False)\n",
       "        (2): BatchNorm2d(32, eps=1e-05, momentum=0.1, affine=True, track_running_stats=True)\n",
       "        (3): ReLU()\n",
       "        (4): Conv2d(32, 32, kernel_size=(3, 3), stride=(1, 1), padding=(1, 1), groups=32, bias=False)\n",
       "        (5): Conv2d(32, 64, kernel_size=(1, 1), stride=(1, 1), bias=False)\n",
       "        (6): BatchNorm2d(64, eps=1e-05, momentum=0.1, affine=True, track_running_stats=True)\n",
       "        (7): ReLU()\n",
       "      )\n",
       "    )\n",
       "    (2): AvgPool2d(kernel_size=8, stride=8, padding=0)\n",
       "  )\n",
       "  (auxiliary2): Sequential(\n",
       "    (0): SepConv(\n",
       "      (op): Sequential(\n",
       "        (0): Conv2d(32, 32, kernel_size=(3, 3), stride=(2, 2), padding=(1, 1), groups=32, bias=False)\n",
       "        (1): Conv2d(32, 32, kernel_size=(1, 1), stride=(1, 1), bias=False)\n",
       "        (2): BatchNorm2d(32, eps=1e-05, momentum=0.1, affine=True, track_running_stats=True)\n",
       "        (3): ReLU()\n",
       "        (4): Conv2d(32, 32, kernel_size=(3, 3), stride=(1, 1), padding=(1, 1), groups=32, bias=False)\n",
       "        (5): Conv2d(32, 64, kernel_size=(1, 1), stride=(1, 1), bias=False)\n",
       "        (6): BatchNorm2d(64, eps=1e-05, momentum=0.1, affine=True, track_running_stats=True)\n",
       "        (7): ReLU()\n",
       "      )\n",
       "    )\n",
       "    (1): AvgPool2d(kernel_size=8, stride=8, padding=0)\n",
       "  )\n",
       "  (auxiliary3): Sequential(\n",
       "    (0): BatchNorm2d(64, eps=1e-05, momentum=0.1, affine=True, track_running_stats=True)\n",
       "    (1): ReLU(inplace=True)\n",
       "    (2): AvgPool2d(kernel_size=8, stride=8, padding=0)\n",
       "  )\n",
       "  (fc1): Linear(in_features=64, out_features=10, bias=True)\n",
       "  (fc2): Linear(in_features=64, out_features=10, bias=True)\n",
       "  (fc3): Linear(in_features=64, out_features=10, bias=True)\n",
       ")"
      ]
     },
     "execution_count": 19,
     "metadata": {},
     "output_type": "execute_result"
    }
   ],
   "source": [
    "model = WideResNet(16, 10, 1)\n",
    "model.to(device)"
   ]
  },
  {
   "cell_type": "markdown",
   "id": "6f580c0f",
   "metadata": {},
   "source": [
    "# Helper Functions"
   ]
  },
  {
   "cell_type": "code",
   "execution_count": 20,
   "id": "3267d764",
   "metadata": {},
   "outputs": [],
   "source": [
    "class AverageMeter(object):\n",
    "    \"\"\"Computes and stores the average and current value\"\"\"\n",
    "    def __init__(self):\n",
    "        self.reset()\n",
    "\n",
    "    def reset(self):\n",
    "        self.val = 0\n",
    "        self.avg = 0\n",
    "        self.sum = 0\n",
    "        self.count = 0\n",
    "\n",
    "    def update(self, val, n=1):\n",
    "        self.val = val\n",
    "        self.sum += val * n\n",
    "        self.count += n\n",
    "        self.avg = self.sum / self.count\n",
    "\n",
    "def get_score(y_true, y_pred):\n",
    "    return accuracy_score(y_true, y_pred)"
   ]
  },
  {
   "cell_type": "code",
   "execution_count": 21,
   "id": "e3e69f96",
   "metadata": {},
   "outputs": [],
   "source": [
    "def train_fn(train_loader, model, criterion, optimizer, device):\n",
    "    batch_time = AverageMeter()\n",
    "    data_time = AverageMeter()\n",
    "    losses = AverageMeter()\n",
    "\n",
    "    model.train()\n",
    "    start = end = time.time()\n",
    "    for step, (images, labels) in tqdm(enumerate(train_loader), total = len(train_loader)):\n",
    "        data_time.update(time.time() - end)\n",
    "        images = images.to(device, dtype=torch.float)\n",
    "        labels = labels.to(device)\n",
    "        batch_size = labels.size(0)\n",
    "\n",
    "        logits, features = model(images)\n",
    "        loss = criterion(logits[0], labels)\n",
    "        losses.update(loss.item(), batch_size)\n",
    "\n",
    "        loss.backward()\n",
    "        optimizer.step()\n",
    "        optimizer.zero_grad()\n",
    "\n",
    "        batch_time.update(time.time() - end)\n",
    "        end = time.time()\n",
    "\n",
    "    return losses.avg\n"
   ]
  },
  {
   "cell_type": "code",
   "execution_count": 22,
   "id": "1cf381d4",
   "metadata": {},
   "outputs": [],
   "source": [
    "def valid_fn(test_loader, model, criterion, device):\n",
    "    batch_time = AverageMeter()\n",
    "    data_time = AverageMeter()\n",
    "    losses = AverageMeter()\n",
    "\n",
    "    model.eval()\n",
    "    start = end = time.time()\n",
    "    preds = []\n",
    "    valid_labels = []\n",
    "    for step, (images, labels) in tqdm(enumerate(test_loader), total = len(test_loader)):\n",
    "        data_time.update(time.time() - end)\n",
    "        images = images.to(device, dtype=torch.float)\n",
    "        labels = labels.to(device)\n",
    "        batch_size = labels.size(0)\n",
    "\n",
    "        with torch.no_grad():\n",
    "            logits, features = model(images)\n",
    "        loss = criterion(logits[0], labels)\n",
    "        losses.update(loss.item(), batch_size)\n",
    "\n",
    "        preds.append(logits[0].softmax(1).to('cpu').numpy())\n",
    "        valid_labels.append(labels.to('cpu').numpy())\n",
    "        \n",
    "        batch_time.update(time.time() - end)\n",
    "        end = time.time()\n",
    "\n",
    "    predictions = np.concatenate(preds)\n",
    "    valid_labels = np.concatenate(valid_labels)\n",
    "    \n",
    "    score = get_score(valid_labels, predictions.argmax(1))\n",
    "    \n",
    "    return losses.avg, score"
   ]
  },
  {
   "cell_type": "markdown",
   "id": "d40a731f",
   "metadata": {},
   "source": [
    "# Training"
   ]
  },
  {
   "cell_type": "code",
   "execution_count": 23,
   "id": "473e8a08",
   "metadata": {},
   "outputs": [],
   "source": [
    "criterion = nn.CrossEntropyLoss()\n",
    "optimizer = SGD(model.parameters(), lr=CFG.lr, weight_decay=CFG.weight_decay, momentum=0.9, nesterov=True)\n",
    "scheduler = MultiStepLR(optimizer, milestones=CFG.milestones, gamma=CFG.gamma, verbose=False)"
   ]
  },
  {
   "cell_type": "code",
   "execution_count": 24,
   "id": "45898b28",
   "metadata": {},
   "outputs": [
    {
     "name": "stderr",
     "output_type": "stream",
     "text": [
      "100%|█████████████████████████████████████████████████████████████████████████████████████████████████████████████████████| 352/352 [00:12<00:00, 29.24it/s]\n",
      "100%|███████████████████████████████████████████████████████████████████████████████████████████████████████████████████████| 40/40 [00:00<00:00, 65.83it/s]\n",
      "Epoch 1\n",
      "Accuracy: 0.5946 | Train loss: 1.4604 | Valid loss: 1.1190\n"
     ]
    },
    {
     "name": "stdout",
     "output_type": "stream",
     "text": [
      "YES\n",
      "Save Best Score: 0.5946 Model\n"
     ]
    },
    {
     "name": "stderr",
     "output_type": "stream",
     "text": [
      "100%|█████████████████████████████████████████████████████████████████████████████████████████████████████████████████████| 352/352 [00:10<00:00, 33.45it/s]\n",
      "100%|███████████████████████████████████████████████████████████████████████████████████████████████████████████████████████| 40/40 [00:00<00:00, 65.48it/s]\n",
      "Epoch 2\n",
      "Accuracy: 0.6298 | Train loss: 1.0136 | Valid loss: 1.0520\n"
     ]
    },
    {
     "name": "stdout",
     "output_type": "stream",
     "text": [
      "YES\n",
      "Save Best Score: 0.6298 Model\n"
     ]
    },
    {
     "name": "stderr",
     "output_type": "stream",
     "text": [
      "100%|█████████████████████████████████████████████████████████████████████████████████████████████████████████████████████| 352/352 [00:10<00:00, 34.45it/s]\n",
      "100%|███████████████████████████████████████████████████████████████████████████████████████████████████████████████████████| 40/40 [00:00<00:00, 77.06it/s]\n",
      "Epoch 3\n",
      "Accuracy: 0.6702 | Train loss: 0.8590 | Valid loss: 0.9856\n"
     ]
    },
    {
     "name": "stdout",
     "output_type": "stream",
     "text": [
      "YES\n",
      "Save Best Score: 0.6702 Model\n"
     ]
    },
    {
     "name": "stderr",
     "output_type": "stream",
     "text": [
      "100%|█████████████████████████████████████████████████████████████████████████████████████████████████████████████████████| 352/352 [00:10<00:00, 33.75it/s]\n",
      "100%|███████████████████████████████████████████████████████████████████████████████████████████████████████████████████████| 40/40 [00:00<00:00, 68.89it/s]\n",
      "Epoch 4\n",
      "Accuracy: 0.6890 | Train loss: 0.7556 | Valid loss: 0.9291\n"
     ]
    },
    {
     "name": "stdout",
     "output_type": "stream",
     "text": [
      "YES\n",
      "Save Best Score: 0.6890 Model\n"
     ]
    },
    {
     "name": "stderr",
     "output_type": "stream",
     "text": [
      "100%|█████████████████████████████████████████████████████████████████████████████████████████████████████████████████████| 352/352 [00:10<00:00, 33.97it/s]\n",
      "100%|███████████████████████████████████████████████████████████████████████████████████████████████████████████████████████| 40/40 [00:00<00:00, 67.66it/s]\n",
      "Epoch 5\n",
      "Accuracy: 0.7500 | Train loss: 0.6962 | Valid loss: 0.7260\n"
     ]
    },
    {
     "name": "stdout",
     "output_type": "stream",
     "text": [
      "YES\n",
      "Save Best Score: 0.7500 Model\n"
     ]
    },
    {
     "name": "stderr",
     "output_type": "stream",
     "text": [
      "100%|█████████████████████████████████████████████████████████████████████████████████████████████████████████████████████| 352/352 [00:10<00:00, 33.78it/s]\n",
      "100%|███████████████████████████████████████████████████████████████████████████████████████████████████████████████████████| 40/40 [00:00<00:00, 66.30it/s]\n",
      "Epoch 6\n",
      "Accuracy: 0.6950 | Train loss: 0.6603 | Valid loss: 0.9169\n",
      "100%|█████████████████████████████████████████████████████████████████████████████████████████████████████████████████████| 352/352 [00:10<00:00, 33.86it/s]\n",
      "100%|███████████████████████████████████████████████████████████████████████████████████████████████████████████████████████| 40/40 [00:00<00:00, 72.11it/s]\n",
      "Epoch 7\n",
      "Accuracy: 0.7504 | Train loss: 0.6275 | Valid loss: 0.7406\n"
     ]
    },
    {
     "name": "stdout",
     "output_type": "stream",
     "text": [
      "YES\n",
      "Save Best Score: 0.7504 Model\n"
     ]
    },
    {
     "name": "stderr",
     "output_type": "stream",
     "text": [
      "100%|█████████████████████████████████████████████████████████████████████████████████████████████████████████████████████| 352/352 [00:10<00:00, 33.93it/s]\n",
      "100%|███████████████████████████████████████████████████████████████████████████████████████████████████████████████████████| 40/40 [00:00<00:00, 67.58it/s]\n",
      "Epoch 8\n",
      "Accuracy: 0.7500 | Train loss: 0.6094 | Valid loss: 0.7467\n",
      "100%|█████████████████████████████████████████████████████████████████████████████████████████████████████████████████████| 352/352 [00:10<00:00, 33.48it/s]\n",
      "100%|███████████████████████████████████████████████████████████████████████████████████████████████████████████████████████| 40/40 [00:00<00:00, 69.05it/s]\n",
      "Epoch 9\n",
      "Accuracy: 0.7412 | Train loss: 0.5905 | Valid loss: 0.7727\n",
      "100%|█████████████████████████████████████████████████████████████████████████████████████████████████████████████████████| 352/352 [00:10<00:00, 33.18it/s]\n",
      "100%|███████████████████████████████████████████████████████████████████████████████████████████████████████████████████████| 40/40 [00:00<00:00, 68.67it/s]\n",
      "Epoch 10\n",
      "Accuracy: 0.7416 | Train loss: 0.5753 | Valid loss: 0.7526\n",
      "100%|█████████████████████████████████████████████████████████████████████████████████████████████████████████████████████| 352/352 [00:10<00:00, 33.61it/s]\n",
      "100%|███████████████████████████████████████████████████████████████████████████████████████████████████████████████████████| 40/40 [00:00<00:00, 69.19it/s]\n",
      "Epoch 11\n",
      "Accuracy: 0.7748 | Train loss: 0.5622 | Valid loss: 0.6637\n"
     ]
    },
    {
     "name": "stdout",
     "output_type": "stream",
     "text": [
      "YES\n",
      "Save Best Score: 0.7748 Model\n"
     ]
    },
    {
     "name": "stderr",
     "output_type": "stream",
     "text": [
      "100%|█████████████████████████████████████████████████████████████████████████████████████████████████████████████████████| 352/352 [00:10<00:00, 32.36it/s]\n",
      "100%|███████████████████████████████████████████████████████████████████████████████████████████████████████████████████████| 40/40 [00:00<00:00, 67.88it/s]\n",
      "Epoch 12\n",
      "Accuracy: 0.7506 | Train loss: 0.5576 | Valid loss: 0.7838\n",
      "100%|█████████████████████████████████████████████████████████████████████████████████████████████████████████████████████| 352/352 [00:10<00:00, 34.14it/s]\n",
      "100%|███████████████████████████████████████████████████████████████████████████████████████████████████████████████████████| 40/40 [00:00<00:00, 63.10it/s]\n",
      "Epoch 13\n",
      "Accuracy: 0.7022 | Train loss: 0.5395 | Valid loss: 0.9709\n",
      "100%|█████████████████████████████████████████████████████████████████████████████████████████████████████████████████████| 352/352 [00:09<00:00, 35.63it/s]\n",
      "100%|███████████████████████████████████████████████████████████████████████████████████████████████████████████████████████| 40/40 [00:00<00:00, 67.25it/s]\n",
      "Epoch 14\n",
      "Accuracy: 0.7952 | Train loss: 0.5395 | Valid loss: 0.6291\n"
     ]
    },
    {
     "name": "stdout",
     "output_type": "stream",
     "text": [
      "YES\n",
      "Save Best Score: 0.7952 Model\n"
     ]
    },
    {
     "name": "stderr",
     "output_type": "stream",
     "text": [
      "100%|█████████████████████████████████████████████████████████████████████████████████████████████████████████████████████| 352/352 [00:10<00:00, 33.09it/s]\n",
      "100%|███████████████████████████████████████████████████████████████████████████████████████████████████████████████████████| 40/40 [00:00<00:00, 82.76it/s]\n",
      "Epoch 15\n",
      "Accuracy: 0.7656 | Train loss: 0.5293 | Valid loss: 0.7064\n",
      "100%|█████████████████████████████████████████████████████████████████████████████████████████████████████████████████████| 352/352 [00:10<00:00, 34.48it/s]\n",
      "100%|███████████████████████████████████████████████████████████████████████████████████████████████████████████████████████| 40/40 [00:00<00:00, 66.98it/s]\n",
      "Epoch 16\n",
      "Accuracy: 0.7832 | Train loss: 0.5223 | Valid loss: 0.6509\n",
      "100%|█████████████████████████████████████████████████████████████████████████████████████████████████████████████████████| 352/352 [00:09<00:00, 35.26it/s]\n",
      "100%|███████████████████████████████████████████████████████████████████████████████████████████████████████████████████████| 40/40 [00:00<00:00, 74.19it/s]\n",
      "Epoch 17\n",
      "Accuracy: 0.7696 | Train loss: 0.5181 | Valid loss: 0.7005\n",
      "100%|█████████████████████████████████████████████████████████████████████████████████████████████████████████████████████| 352/352 [00:10<00:00, 35.18it/s]\n",
      "100%|███████████████████████████████████████████████████████████████████████████████████████████████████████████████████████| 40/40 [00:00<00:00, 84.20it/s]\n",
      "Epoch 18\n",
      "Accuracy: 0.7440 | Train loss: 0.5163 | Valid loss: 0.7548\n",
      "100%|█████████████████████████████████████████████████████████████████████████████████████████████████████████████████████| 352/352 [00:10<00:00, 34.64it/s]\n",
      "100%|███████████████████████████████████████████████████████████████████████████████████████████████████████████████████████| 40/40 [00:00<00:00, 69.96it/s]\n",
      "Epoch 19\n",
      "Accuracy: 0.6940 | Train loss: 0.5050 | Valid loss: 1.0075\n",
      "100%|█████████████████████████████████████████████████████████████████████████████████████████████████████████████████████| 352/352 [00:10<00:00, 34.44it/s]\n",
      "100%|███████████████████████████████████████████████████████████████████████████████████████████████████████████████████████| 40/40 [00:00<00:00, 67.40it/s]\n",
      "Epoch 20\n",
      "Accuracy: 0.7784 | Train loss: 0.5070 | Valid loss: 0.6755\n",
      "100%|█████████████████████████████████████████████████████████████████████████████████████████████████████████████████████| 352/352 [00:10<00:00, 34.03it/s]\n",
      "100%|███████████████████████████████████████████████████████████████████████████████████████████████████████████████████████| 40/40 [00:00<00:00, 73.93it/s]\n",
      "Epoch 21\n",
      "Accuracy: 0.7768 | Train loss: 0.5037 | Valid loss: 0.6470\n",
      "100%|█████████████████████████████████████████████████████████████████████████████████████████████████████████████████████| 352/352 [00:11<00:00, 30.92it/s]\n",
      "100%|███████████████████████████████████████████████████████████████████████████████████████████████████████████████████████| 40/40 [00:00<00:00, 85.45it/s]\n",
      "Epoch 22\n",
      "Accuracy: 0.7956 | Train loss: 0.5024 | Valid loss: 0.6115\n"
     ]
    },
    {
     "name": "stdout",
     "output_type": "stream",
     "text": [
      "YES\n",
      "Save Best Score: 0.7956 Model\n"
     ]
    },
    {
     "name": "stderr",
     "output_type": "stream",
     "text": [
      "100%|█████████████████████████████████████████████████████████████████████████████████████████████████████████████████████| 352/352 [00:09<00:00, 35.26it/s]\n",
      "100%|███████████████████████████████████████████████████████████████████████████████████████████████████████████████████████| 40/40 [00:00<00:00, 69.58it/s]\n",
      "Epoch 23\n",
      "Accuracy: 0.8118 | Train loss: 0.4964 | Valid loss: 0.5522\n"
     ]
    },
    {
     "name": "stdout",
     "output_type": "stream",
     "text": [
      "YES\n",
      "Save Best Score: 0.8118 Model\n"
     ]
    },
    {
     "name": "stderr",
     "output_type": "stream",
     "text": [
      "100%|█████████████████████████████████████████████████████████████████████████████████████████████████████████████████████| 352/352 [00:10<00:00, 34.27it/s]\n",
      "100%|███████████████████████████████████████████████████████████████████████████████████████████████████████████████████████| 40/40 [00:00<00:00, 68.74it/s]\n",
      "Epoch 24\n",
      "Accuracy: 0.7458 | Train loss: 0.4957 | Valid loss: 0.7434\n",
      "100%|█████████████████████████████████████████████████████████████████████████████████████████████████████████████████████| 352/352 [00:10<00:00, 34.34it/s]\n",
      "100%|███████████████████████████████████████████████████████████████████████████████████████████████████████████████████████| 40/40 [00:00<00:00, 68.65it/s]\n",
      "Epoch 25\n",
      "Accuracy: 0.7492 | Train loss: 0.4914 | Valid loss: 0.7575\n",
      "100%|█████████████████████████████████████████████████████████████████████████████████████████████████████████████████████| 352/352 [00:10<00:00, 32.99it/s]\n",
      "100%|███████████████████████████████████████████████████████████████████████████████████████████████████████████████████████| 40/40 [00:00<00:00, 67.92it/s]\n",
      "Epoch 26\n",
      "Accuracy: 0.7744 | Train loss: 0.4951 | Valid loss: 0.6598\n",
      "100%|█████████████████████████████████████████████████████████████████████████████████████████████████████████████████████| 352/352 [00:09<00:00, 35.27it/s]\n",
      "100%|███████████████████████████████████████████████████████████████████████████████████████████████████████████████████████| 40/40 [00:00<00:00, 65.57it/s]\n",
      "Epoch 27\n",
      "Accuracy: 0.7608 | Train loss: 0.4891 | Valid loss: 0.7444\n",
      "100%|█████████████████████████████████████████████████████████████████████████████████████████████████████████████████████| 352/352 [00:10<00:00, 32.60it/s]\n",
      "100%|███████████████████████████████████████████████████████████████████████████████████████████████████████████████████████| 40/40 [00:00<00:00, 73.56it/s]\n",
      "Epoch 28\n",
      "Accuracy: 0.7806 | Train loss: 0.4866 | Valid loss: 0.6398\n",
      "100%|█████████████████████████████████████████████████████████████████████████████████████████████████████████████████████| 352/352 [00:10<00:00, 33.57it/s]\n",
      "100%|███████████████████████████████████████████████████████████████████████████████████████████████████████████████████████| 40/40 [00:00<00:00, 62.29it/s]\n",
      "Epoch 29\n",
      "Accuracy: 0.7764 | Train loss: 0.4798 | Valid loss: 0.6464\n",
      "100%|█████████████████████████████████████████████████████████████████████████████████████████████████████████████████████| 352/352 [00:10<00:00, 32.93it/s]\n",
      "100%|███████████████████████████████████████████████████████████████████████████████████████████████████████████████████████| 40/40 [00:00<00:00, 67.64it/s]\n",
      "Epoch 30\n",
      "Accuracy: 0.8032 | Train loss: 0.4762 | Valid loss: 0.5812\n",
      "100%|█████████████████████████████████████████████████████████████████████████████████████████████████████████████████████| 352/352 [00:10<00:00, 32.15it/s]\n",
      "100%|███████████████████████████████████████████████████████████████████████████████████████████████████████████████████████| 40/40 [00:00<00:00, 63.72it/s]\n",
      "Epoch 31\n",
      "Accuracy: 0.7854 | Train loss: 0.4803 | Valid loss: 0.6250\n",
      "100%|█████████████████████████████████████████████████████████████████████████████████████████████████████████████████████| 352/352 [00:10<00:00, 34.33it/s]\n",
      "100%|███████████████████████████████████████████████████████████████████████████████████████████████████████████████████████| 40/40 [00:00<00:00, 67.16it/s]\n",
      "Epoch 32\n",
      "Accuracy: 0.8212 | Train loss: 0.4741 | Valid loss: 0.5330\n"
     ]
    },
    {
     "name": "stdout",
     "output_type": "stream",
     "text": [
      "YES\n",
      "Save Best Score: 0.8212 Model\n"
     ]
    },
    {
     "name": "stderr",
     "output_type": "stream",
     "text": [
      "100%|█████████████████████████████████████████████████████████████████████████████████████████████████████████████████████| 352/352 [00:10<00:00, 34.60it/s]\n",
      "100%|███████████████████████████████████████████████████████████████████████████████████████████████████████████████████████| 40/40 [00:00<00:00, 65.80it/s]\n",
      "Epoch 33\n",
      "Accuracy: 0.7774 | Train loss: 0.4750 | Valid loss: 0.6609\n",
      "100%|█████████████████████████████████████████████████████████████████████████████████████████████████████████████████████| 352/352 [00:10<00:00, 35.13it/s]\n",
      "100%|███████████████████████████████████████████████████████████████████████████████████████████████████████████████████████| 40/40 [00:00<00:00, 70.86it/s]\n",
      "Epoch 34\n",
      "Accuracy: 0.8280 | Train loss: 0.4746 | Valid loss: 0.5087\n"
     ]
    },
    {
     "name": "stdout",
     "output_type": "stream",
     "text": [
      "YES\n",
      "Save Best Score: 0.8280 Model\n"
     ]
    },
    {
     "name": "stderr",
     "output_type": "stream",
     "text": [
      "100%|█████████████████████████████████████████████████████████████████████████████████████████████████████████████████████| 352/352 [00:10<00:00, 34.91it/s]\n",
      "100%|███████████████████████████████████████████████████████████████████████████████████████████████████████████████████████| 40/40 [00:00<00:00, 68.66it/s]\n",
      "Epoch 35\n",
      "Accuracy: 0.7434 | Train loss: 0.4738 | Valid loss: 0.7833\n",
      "100%|█████████████████████████████████████████████████████████████████████████████████████████████████████████████████████| 352/352 [00:10<00:00, 33.53it/s]\n",
      "100%|███████████████████████████████████████████████████████████████████████████████████████████████████████████████████████| 40/40 [00:00<00:00, 62.32it/s]\n",
      "Epoch 36\n",
      "Accuracy: 0.8052 | Train loss: 0.4760 | Valid loss: 0.5533\n",
      "100%|█████████████████████████████████████████████████████████████████████████████████████████████████████████████████████| 352/352 [00:10<00:00, 33.12it/s]\n",
      "100%|███████████████████████████████████████████████████████████████████████████████████████████████████████████████████████| 40/40 [00:00<00:00, 67.06it/s]\n",
      "Epoch 37\n",
      "Accuracy: 0.7806 | Train loss: 0.4671 | Valid loss: 0.6746\n",
      "100%|█████████████████████████████████████████████████████████████████████████████████████████████████████████████████████| 352/352 [00:10<00:00, 35.12it/s]\n",
      "100%|███████████████████████████████████████████████████████████████████████████████████████████████████████████████████████| 40/40 [00:00<00:00, 74.22it/s]\n",
      "Epoch 38\n",
      "Accuracy: 0.8208 | Train loss: 0.4666 | Valid loss: 0.5340\n",
      "100%|█████████████████████████████████████████████████████████████████████████████████████████████████████████████████████| 352/352 [00:10<00:00, 34.09it/s]\n",
      "100%|███████████████████████████████████████████████████████████████████████████████████████████████████████████████████████| 40/40 [00:00<00:00, 68.63it/s]\n",
      "Epoch 39\n",
      "Accuracy: 0.7740 | Train loss: 0.4663 | Valid loss: 0.6593\n",
      "100%|█████████████████████████████████████████████████████████████████████████████████████████████████████████████████████| 352/352 [00:10<00:00, 33.29it/s]\n",
      "100%|███████████████████████████████████████████████████████████████████████████████████████████████████████████████████████| 40/40 [00:00<00:00, 65.93it/s]\n",
      "Epoch 40\n",
      "Accuracy: 0.7904 | Train loss: 0.4681 | Valid loss: 0.6207\n",
      "100%|█████████████████████████████████████████████████████████████████████████████████████████████████████████████████████| 352/352 [00:10<00:00, 33.91it/s]\n",
      "100%|███████████████████████████████████████████████████████████████████████████████████████████████████████████████████████| 40/40 [00:00<00:00, 69.02it/s]\n",
      "Epoch 41\n",
      "Accuracy: 0.7760 | Train loss: 0.4653 | Valid loss: 0.6918\n",
      "100%|█████████████████████████████████████████████████████████████████████████████████████████████████████████████████████| 352/352 [00:10<00:00, 33.47it/s]\n",
      "100%|███████████████████████████████████████████████████████████████████████████████████████████████████████████████████████| 40/40 [00:00<00:00, 67.41it/s]\n",
      "Epoch 42\n",
      "Accuracy: 0.7868 | Train loss: 0.4629 | Valid loss: 0.6447\n",
      "100%|█████████████████████████████████████████████████████████████████████████████████████████████████████████████████████| 352/352 [00:10<00:00, 32.83it/s]\n",
      "100%|███████████████████████████████████████████████████████████████████████████████████████████████████████████████████████| 40/40 [00:00<00:00, 68.56it/s]\n",
      "Epoch 43\n",
      "Accuracy: 0.7408 | Train loss: 0.4628 | Valid loss: 0.7504\n",
      "100%|█████████████████████████████████████████████████████████████████████████████████████████████████████████████████████| 352/352 [00:10<00:00, 33.14it/s]\n",
      "100%|███████████████████████████████████████████████████████████████████████████████████████████████████████████████████████| 40/40 [00:00<00:00, 66.91it/s]\n",
      "Epoch 44\n",
      "Accuracy: 0.8042 | Train loss: 0.4651 | Valid loss: 0.5607\n",
      "100%|█████████████████████████████████████████████████████████████████████████████████████████████████████████████████████| 352/352 [00:11<00:00, 31.74it/s]\n",
      "100%|███████████████████████████████████████████████████████████████████████████████████████████████████████████████████████| 40/40 [00:00<00:00, 75.35it/s]\n",
      "Epoch 45\n",
      "Accuracy: 0.7908 | Train loss: 0.4656 | Valid loss: 0.6296\n",
      "100%|█████████████████████████████████████████████████████████████████████████████████████████████████████████████████████| 352/352 [00:10<00:00, 33.69it/s]\n",
      "100%|███████████████████████████████████████████████████████████████████████████████████████████████████████████████████████| 40/40 [00:00<00:00, 68.68it/s]\n",
      "Epoch 46\n",
      "Accuracy: 0.7178 | Train loss: 0.4567 | Valid loss: 0.9130\n",
      "100%|█████████████████████████████████████████████████████████████████████████████████████████████████████████████████████| 352/352 [00:10<00:00, 32.96it/s]\n",
      "100%|███████████████████████████████████████████████████████████████████████████████████████████████████████████████████████| 40/40 [00:00<00:00, 65.19it/s]\n",
      "Epoch 47\n",
      "Accuracy: 0.8112 | Train loss: 0.4642 | Valid loss: 0.5634\n",
      "100%|█████████████████████████████████████████████████████████████████████████████████████████████████████████████████████| 352/352 [00:10<00:00, 32.31it/s]\n",
      "100%|███████████████████████████████████████████████████████████████████████████████████████████████████████████████████████| 40/40 [00:00<00:00, 67.19it/s]\n",
      "Epoch 48\n",
      "Accuracy: 0.7782 | Train loss: 0.4561 | Valid loss: 0.6614\n",
      "100%|█████████████████████████████████████████████████████████████████████████████████████████████████████████████████████| 352/352 [00:10<00:00, 32.99it/s]\n",
      "100%|███████████████████████████████████████████████████████████████████████████████████████████████████████████████████████| 40/40 [00:00<00:00, 66.42it/s]\n",
      "Epoch 49\n",
      "Accuracy: 0.7854 | Train loss: 0.4557 | Valid loss: 0.6331\n",
      "100%|█████████████████████████████████████████████████████████████████████████████████████████████████████████████████████| 352/352 [00:10<00:00, 32.97it/s]\n",
      "100%|███████████████████████████████████████████████████████████████████████████████████████████████████████████████████████| 40/40 [00:00<00:00, 70.36it/s]\n",
      "Epoch 50\n",
      "Accuracy: 0.7944 | Train loss: 0.4552 | Valid loss: 0.5952\n",
      "100%|█████████████████████████████████████████████████████████████████████████████████████████████████████████████████████| 352/352 [00:13<00:00, 26.51it/s]\n",
      "100%|███████████████████████████████████████████████████████████████████████████████████████████████████████████████████████| 40/40 [00:01<00:00, 34.35it/s]\n",
      "Epoch 51\n",
      "Accuracy: 0.7936 | Train loss: 0.4568 | Valid loss: 0.6325\n",
      "100%|█████████████████████████████████████████████████████████████████████████████████████████████████████████████████████| 352/352 [00:13<00:00, 26.55it/s]\n",
      "100%|███████████████████████████████████████████████████████████████████████████████████████████████████████████████████████| 40/40 [00:00<00:00, 44.15it/s]\n",
      "Epoch 52\n",
      "Accuracy: 0.7938 | Train loss: 0.4563 | Valid loss: 0.6146\n",
      "100%|█████████████████████████████████████████████████████████████████████████████████████████████████████████████████████| 352/352 [00:12<00:00, 28.47it/s]\n",
      "100%|███████████████████████████████████████████████████████████████████████████████████████████████████████████████████████| 40/40 [00:01<00:00, 35.32it/s]\n",
      "Epoch 53\n",
      "Accuracy: 0.8118 | Train loss: 0.4486 | Valid loss: 0.5592\n",
      "100%|█████████████████████████████████████████████████████████████████████████████████████████████████████████████████████| 352/352 [00:10<00:00, 33.05it/s]\n",
      "100%|███████████████████████████████████████████████████████████████████████████████████████████████████████████████████████| 40/40 [00:00<00:00, 67.56it/s]\n",
      "Epoch 54\n",
      "Accuracy: 0.7880 | Train loss: 0.4534 | Valid loss: 0.6341\n",
      "100%|█████████████████████████████████████████████████████████████████████████████████████████████████████████████████████| 352/352 [00:10<00:00, 33.29it/s]\n",
      "100%|███████████████████████████████████████████████████████████████████████████████████████████████████████████████████████| 40/40 [00:00<00:00, 66.38it/s]\n",
      "Epoch 55\n",
      "Accuracy: 0.7828 | Train loss: 0.4553 | Valid loss: 0.6165\n",
      "100%|█████████████████████████████████████████████████████████████████████████████████████████████████████████████████████| 352/352 [00:10<00:00, 34.46it/s]\n"
     ]
    },
    {
     "name": "stderr",
     "output_type": "stream",
     "text": [
      "100%|███████████████████████████████████████████████████████████████████████████████████████████████████████████████████████| 40/40 [00:00<00:00, 78.50it/s]\n",
      "Epoch 56\n",
      "Accuracy: 0.8010 | Train loss: 0.4549 | Valid loss: 0.5916\n",
      "100%|█████████████████████████████████████████████████████████████████████████████████████████████████████████████████████| 352/352 [00:10<00:00, 33.97it/s]\n",
      "100%|███████████████████████████████████████████████████████████████████████████████████████████████████████████████████████| 40/40 [00:00<00:00, 62.60it/s]\n",
      "Epoch 57\n",
      "Accuracy: 0.7914 | Train loss: 0.4519 | Valid loss: 0.6040\n",
      "100%|█████████████████████████████████████████████████████████████████████████████████████████████████████████████████████| 352/352 [00:10<00:00, 32.95it/s]\n",
      "100%|███████████████████████████████████████████████████████████████████████████████████████████████████████████████████████| 40/40 [00:00<00:00, 68.54it/s]\n",
      "Epoch 58\n",
      "Accuracy: 0.8412 | Train loss: 0.4489 | Valid loss: 0.4618\n"
     ]
    },
    {
     "name": "stdout",
     "output_type": "stream",
     "text": [
      "YES\n",
      "Save Best Score: 0.8412 Model\n"
     ]
    },
    {
     "name": "stderr",
     "output_type": "stream",
     "text": [
      "100%|█████████████████████████████████████████████████████████████████████████████████████████████████████████████████████| 352/352 [00:10<00:00, 33.60it/s]\n",
      "100%|███████████████████████████████████████████████████████████████████████████████████████████████████████████████████████| 40/40 [00:00<00:00, 60.61it/s]\n",
      "Epoch 59\n",
      "Accuracy: 0.7540 | Train loss: 0.4505 | Valid loss: 0.7802\n",
      "100%|█████████████████████████████████████████████████████████████████████████████████████████████████████████████████████| 352/352 [00:11<00:00, 31.44it/s]\n",
      "100%|███████████████████████████████████████████████████████████████████████████████████████████████████████████████████████| 40/40 [00:00<00:00, 74.86it/s]\n",
      "Epoch 60\n",
      "Accuracy: 0.7982 | Train loss: 0.4471 | Valid loss: 0.5910\n",
      "100%|█████████████████████████████████████████████████████████████████████████████████████████████████████████████████████| 352/352 [00:10<00:00, 33.13it/s]\n",
      "100%|███████████████████████████████████████████████████████████████████████████████████████████████████████████████████████| 40/40 [00:00<00:00, 76.76it/s]\n",
      "Epoch 61\n",
      "Accuracy: 0.8896 | Train loss: 0.3157 | Valid loss: 0.3214\n"
     ]
    },
    {
     "name": "stdout",
     "output_type": "stream",
     "text": [
      "YES\n",
      "Save Best Score: 0.8896 Model\n"
     ]
    },
    {
     "name": "stderr",
     "output_type": "stream",
     "text": [
      "100%|█████████████████████████████████████████████████████████████████████████████████████████████████████████████████████| 352/352 [00:10<00:00, 33.39it/s]\n",
      "100%|███████████████████████████████████████████████████████████████████████████████████████████████████████████████████████| 40/40 [00:00<00:00, 63.92it/s]\n",
      "Epoch 62\n",
      "Accuracy: 0.8932 | Train loss: 0.2788 | Valid loss: 0.3067\n"
     ]
    },
    {
     "name": "stdout",
     "output_type": "stream",
     "text": [
      "YES\n",
      "Save Best Score: 0.8932 Model\n"
     ]
    },
    {
     "name": "stderr",
     "output_type": "stream",
     "text": [
      "100%|█████████████████████████████████████████████████████████████████████████████████████████████████████████████████████| 352/352 [00:11<00:00, 31.16it/s]\n",
      "100%|███████████████████████████████████████████████████████████████████████████████████████████████████████████████████████| 40/40 [00:00<00:00, 72.01it/s]\n",
      "Epoch 63\n",
      "Accuracy: 0.8918 | Train loss: 0.2659 | Valid loss: 0.3110\n",
      "100%|█████████████████████████████████████████████████████████████████████████████████████████████████████████████████████| 352/352 [00:10<00:00, 32.90it/s]\n",
      "100%|███████████████████████████████████████████████████████████████████████████████████████████████████████████████████████| 40/40 [00:00<00:00, 63.71it/s]\n",
      "Epoch 64\n",
      "Accuracy: 0.8894 | Train loss: 0.2596 | Valid loss: 0.3290\n",
      "100%|█████████████████████████████████████████████████████████████████████████████████████████████████████████████████████| 352/352 [00:10<00:00, 32.76it/s]\n",
      "100%|███████████████████████████████████████████████████████████████████████████████████████████████████████████████████████| 40/40 [00:00<00:00, 69.70it/s]\n",
      "Epoch 65\n",
      "Accuracy: 0.8876 | Train loss: 0.2554 | Valid loss: 0.3267\n",
      "100%|█████████████████████████████████████████████████████████████████████████████████████████████████████████████████████| 352/352 [00:10<00:00, 34.39it/s]\n",
      "100%|███████████████████████████████████████████████████████████████████████████████████████████████████████████████████████| 40/40 [00:00<00:00, 83.56it/s]\n",
      "Epoch 66\n",
      "Accuracy: 0.8950 | Train loss: 0.2528 | Valid loss: 0.3110\n"
     ]
    },
    {
     "name": "stdout",
     "output_type": "stream",
     "text": [
      "YES\n",
      "Save Best Score: 0.8950 Model\n"
     ]
    },
    {
     "name": "stderr",
     "output_type": "stream",
     "text": [
      "100%|█████████████████████████████████████████████████████████████████████████████████████████████████████████████████████| 352/352 [00:10<00:00, 33.40it/s]\n",
      "100%|███████████████████████████████████████████████████████████████████████████████████████████████████████████████████████| 40/40 [00:00<00:00, 65.42it/s]\n",
      "Epoch 67\n",
      "Accuracy: 0.8916 | Train loss: 0.2515 | Valid loss: 0.3187\n",
      "100%|█████████████████████████████████████████████████████████████████████████████████████████████████████████████████████| 352/352 [00:10<00:00, 32.34it/s]\n",
      "100%|███████████████████████████████████████████████████████████████████████████████████████████████████████████████████████| 40/40 [00:00<00:00, 62.47it/s]\n",
      "Epoch 68\n",
      "Accuracy: 0.8786 | Train loss: 0.2539 | Valid loss: 0.3500\n",
      "100%|█████████████████████████████████████████████████████████████████████████████████████████████████████████████████████| 352/352 [00:10<00:00, 33.22it/s]\n",
      "100%|███████████████████████████████████████████████████████████████████████████████████████████████████████████████████████| 40/40 [00:00<00:00, 68.18it/s]\n",
      "Epoch 69\n",
      "Accuracy: 0.8936 | Train loss: 0.2543 | Valid loss: 0.3156\n",
      "100%|█████████████████████████████████████████████████████████████████████████████████████████████████████████████████████| 352/352 [00:10<00:00, 32.86it/s]\n",
      "100%|███████████████████████████████████████████████████████████████████████████████████████████████████████████████████████| 40/40 [00:00<00:00, 67.50it/s]\n",
      "Epoch 70\n",
      "Accuracy: 0.8868 | Train loss: 0.2526 | Valid loss: 0.3413\n",
      "100%|█████████████████████████████████████████████████████████████████████████████████████████████████████████████████████| 352/352 [00:10<00:00, 32.85it/s]\n",
      "100%|███████████████████████████████████████████████████████████████████████████████████████████████████████████████████████| 40/40 [00:00<00:00, 65.64it/s]\n",
      "Epoch 71\n",
      "Accuracy: 0.8898 | Train loss: 0.2496 | Valid loss: 0.3408\n",
      "100%|█████████████████████████████████████████████████████████████████████████████████████████████████████████████████████| 352/352 [00:10<00:00, 34.29it/s]\n",
      "100%|███████████████████████████████████████████████████████████████████████████████████████████████████████████████████████| 40/40 [00:00<00:00, 68.40it/s]\n",
      "Epoch 72\n",
      "Accuracy: 0.8686 | Train loss: 0.2529 | Valid loss: 0.3808\n",
      "100%|█████████████████████████████████████████████████████████████████████████████████████████████████████████████████████| 352/352 [00:10<00:00, 34.14it/s]\n",
      "100%|███████████████████████████████████████████████████████████████████████████████████████████████████████████████████████| 40/40 [00:00<00:00, 62.35it/s]\n",
      "Epoch 73\n",
      "Accuracy: 0.8718 | Train loss: 0.2550 | Valid loss: 0.3872\n",
      "100%|█████████████████████████████████████████████████████████████████████████████████████████████████████████████████████| 352/352 [00:10<00:00, 34.40it/s]\n",
      "100%|███████████████████████████████████████████████████████████████████████████████████████████████████████████████████████| 40/40 [00:00<00:00, 67.50it/s]\n",
      "Epoch 74\n",
      "Accuracy: 0.8672 | Train loss: 0.2542 | Valid loss: 0.3765\n",
      "100%|█████████████████████████████████████████████████████████████████████████████████████████████████████████████████████| 352/352 [00:10<00:00, 32.88it/s]\n",
      "100%|███████████████████████████████████████████████████████████████████████████████████████████████████████████████████████| 40/40 [00:00<00:00, 69.80it/s]\n",
      "Epoch 75\n",
      "Accuracy: 0.8840 | Train loss: 0.2522 | Valid loss: 0.3447\n",
      "100%|█████████████████████████████████████████████████████████████████████████████████████████████████████████████████████| 352/352 [00:10<00:00, 33.48it/s]\n",
      "100%|███████████████████████████████████████████████████████████████████████████████████████████████████████████████████████| 40/40 [00:00<00:00, 69.37it/s]\n",
      "Epoch 76\n",
      "Accuracy: 0.8756 | Train loss: 0.2518 | Valid loss: 0.3703\n",
      "100%|█████████████████████████████████████████████████████████████████████████████████████████████████████████████████████| 352/352 [00:10<00:00, 33.38it/s]\n",
      "100%|███████████████████████████████████████████████████████████████████████████████████████████████████████████████████████| 40/40 [00:00<00:00, 70.65it/s]\n",
      "Epoch 77\n",
      "Accuracy: 0.8766 | Train loss: 0.2520 | Valid loss: 0.3670\n",
      "100%|█████████████████████████████████████████████████████████████████████████████████████████████████████████████████████| 352/352 [00:10<00:00, 34.87it/s]\n",
      "100%|███████████████████████████████████████████████████████████████████████████████████████████████████████████████████████| 40/40 [00:00<00:00, 69.30it/s]\n",
      "Epoch 78\n",
      "Accuracy: 0.8854 | Train loss: 0.2567 | Valid loss: 0.3438\n",
      "100%|█████████████████████████████████████████████████████████████████████████████████████████████████████████████████████| 352/352 [00:10<00:00, 34.32it/s]\n",
      "100%|███████████████████████████████████████████████████████████████████████████████████████████████████████████████████████| 40/40 [00:00<00:00, 69.06it/s]\n",
      "Epoch 79\n",
      "Accuracy: 0.8894 | Train loss: 0.2522 | Valid loss: 0.3289\n",
      "100%|█████████████████████████████████████████████████████████████████████████████████████████████████████████████████████| 352/352 [00:10<00:00, 33.74it/s]\n",
      "100%|███████████████████████████████████████████████████████████████████████████████████████████████████████████████████████| 40/40 [00:00<00:00, 78.99it/s]\n",
      "Epoch 80\n",
      "Accuracy: 0.8694 | Train loss: 0.2546 | Valid loss: 0.3808\n",
      "100%|█████████████████████████████████████████████████████████████████████████████████████████████████████████████████████| 352/352 [00:10<00:00, 35.05it/s]\n",
      "100%|███████████████████████████████████████████████████████████████████████████████████████████████████████████████████████| 40/40 [00:00<00:00, 70.12it/s]\n",
      "Epoch 81\n",
      "Accuracy: 0.8786 | Train loss: 0.2528 | Valid loss: 0.3559\n",
      "100%|█████████████████████████████████████████████████████████████████████████████████████████████████████████████████████| 352/352 [00:10<00:00, 33.77it/s]\n",
      "100%|███████████████████████████████████████████████████████████████████████████████████████████████████████████████████████| 40/40 [00:00<00:00, 80.27it/s]\n",
      "Epoch 82\n",
      "Accuracy: 0.8770 | Train loss: 0.2580 | Valid loss: 0.3583\n",
      "100%|█████████████████████████████████████████████████████████████████████████████████████████████████████████████████████| 352/352 [00:10<00:00, 33.85it/s]\n",
      "100%|███████████████████████████████████████████████████████████████████████████████████████████████████████████████████████| 40/40 [00:00<00:00, 65.41it/s]\n",
      "Epoch 83\n",
      "Accuracy: 0.8748 | Train loss: 0.2550 | Valid loss: 0.3876\n",
      "100%|█████████████████████████████████████████████████████████████████████████████████████████████████████████████████████| 352/352 [00:10<00:00, 34.99it/s]\n",
      "100%|███████████████████████████████████████████████████████████████████████████████████████████████████████████████████████| 40/40 [00:00<00:00, 70.09it/s]\n",
      "Epoch 84\n",
      "Accuracy: 0.8848 | Train loss: 0.2522 | Valid loss: 0.3403\n",
      "100%|█████████████████████████████████████████████████████████████████████████████████████████████████████████████████████| 352/352 [00:10<00:00, 32.77it/s]\n",
      "100%|███████████████████████████████████████████████████████████████████████████████████████████████████████████████████████| 40/40 [00:00<00:00, 77.72it/s]\n",
      "Epoch 85\n",
      "Accuracy: 0.8828 | Train loss: 0.2561 | Valid loss: 0.3526\n",
      "100%|█████████████████████████████████████████████████████████████████████████████████████████████████████████████████████| 352/352 [00:10<00:00, 34.46it/s]\n",
      "100%|███████████████████████████████████████████████████████████████████████████████████████████████████████████████████████| 40/40 [00:00<00:00, 83.75it/s]\n",
      "Epoch 86\n",
      "Accuracy: 0.8556 | Train loss: 0.2559 | Valid loss: 0.4400\n",
      "100%|█████████████████████████████████████████████████████████████████████████████████████████████████████████████████████| 352/352 [00:10<00:00, 33.52it/s]\n",
      "100%|███████████████████████████████████████████████████████████████████████████████████████████████████████████████████████| 40/40 [00:00<00:00, 67.43it/s]\n",
      "Epoch 87\n",
      "Accuracy: 0.8830 | Train loss: 0.2471 | Valid loss: 0.3499\n",
      "100%|█████████████████████████████████████████████████████████████████████████████████████████████████████████████████████| 352/352 [00:10<00:00, 34.95it/s]\n"
     ]
    },
    {
     "name": "stderr",
     "output_type": "stream",
     "text": [
      "100%|███████████████████████████████████████████████████████████████████████████████████████████████████████████████████████| 40/40 [00:00<00:00, 68.31it/s]\n",
      "Epoch 88\n",
      "Accuracy: 0.8832 | Train loss: 0.2528 | Valid loss: 0.3588\n",
      "100%|█████████████████████████████████████████████████████████████████████████████████████████████████████████████████████| 352/352 [00:10<00:00, 32.80it/s]\n",
      "100%|███████████████████████████████████████████████████████████████████████████████████████████████████████████████████████| 40/40 [00:00<00:00, 66.06it/s]\n",
      "Epoch 89\n",
      "Accuracy: 0.8834 | Train loss: 0.2486 | Valid loss: 0.3675\n",
      "100%|█████████████████████████████████████████████████████████████████████████████████████████████████████████████████████| 352/352 [00:10<00:00, 34.89it/s]\n",
      "100%|███████████████████████████████████████████████████████████████████████████████████████████████████████████████████████| 40/40 [00:00<00:00, 65.39it/s]\n",
      "Epoch 90\n",
      "Accuracy: 0.8496 | Train loss: 0.2521 | Valid loss: 0.4683\n",
      "100%|█████████████████████████████████████████████████████████████████████████████████████████████████████████████████████| 352/352 [00:10<00:00, 33.98it/s]\n",
      "100%|███████████████████████████████████████████████████████████████████████████████████████████████████████████████████████| 40/40 [00:00<00:00, 65.54it/s]\n",
      "Epoch 91\n",
      "Accuracy: 0.8828 | Train loss: 0.2523 | Valid loss: 0.3486\n",
      "100%|█████████████████████████████████████████████████████████████████████████████████████████████████████████████████████| 352/352 [00:09<00:00, 35.36it/s]\n",
      "100%|███████████████████████████████████████████████████████████████████████████████████████████████████████████████████████| 40/40 [00:00<00:00, 69.30it/s]\n",
      "Epoch 92\n",
      "Accuracy: 0.8852 | Train loss: 0.2491 | Valid loss: 0.3530\n",
      "100%|█████████████████████████████████████████████████████████████████████████████████████████████████████████████████████| 352/352 [00:10<00:00, 33.86it/s]\n",
      "100%|███████████████████████████████████████████████████████████████████████████████████████████████████████████████████████| 40/40 [00:00<00:00, 67.32it/s]\n",
      "Epoch 93\n",
      "Accuracy: 0.8668 | Train loss: 0.2500 | Valid loss: 0.4032\n",
      "100%|█████████████████████████████████████████████████████████████████████████████████████████████████████████████████████| 352/352 [00:10<00:00, 34.07it/s]\n",
      "100%|███████████████████████████████████████████████████████████████████████████████████████████████████████████████████████| 40/40 [00:00<00:00, 67.32it/s]\n",
      "Epoch 94\n",
      "Accuracy: 0.8694 | Train loss: 0.2564 | Valid loss: 0.3864\n",
      "100%|█████████████████████████████████████████████████████████████████████████████████████████████████████████████████████| 352/352 [00:10<00:00, 34.19it/s]\n",
      "100%|███████████████████████████████████████████████████████████████████████████████████████████████████████████████████████| 40/40 [00:00<00:00, 65.18it/s]\n",
      "Epoch 95\n",
      "Accuracy: 0.8820 | Train loss: 0.2493 | Valid loss: 0.3588\n",
      "100%|█████████████████████████████████████████████████████████████████████████████████████████████████████████████████████| 352/352 [00:10<00:00, 33.35it/s]\n",
      "100%|███████████████████████████████████████████████████████████████████████████████████████████████████████████████████████| 40/40 [00:00<00:00, 69.67it/s]\n",
      "Epoch 96\n",
      "Accuracy: 0.8218 | Train loss: 0.2488 | Valid loss: 0.5610\n",
      "100%|█████████████████████████████████████████████████████████████████████████████████████████████████████████████████████| 352/352 [00:10<00:00, 33.57it/s]\n",
      "100%|███████████████████████████████████████████████████████████████████████████████████████████████████████████████████████| 40/40 [00:00<00:00, 67.12it/s]\n",
      "Epoch 97\n",
      "Accuracy: 0.8864 | Train loss: 0.2514 | Valid loss: 0.3518\n",
      "100%|█████████████████████████████████████████████████████████████████████████████████████████████████████████████████████| 352/352 [00:10<00:00, 34.27it/s]\n",
      "100%|███████████████████████████████████████████████████████████████████████████████████████████████████████████████████████| 40/40 [00:00<00:00, 67.45it/s]\n",
      "Epoch 98\n",
      "Accuracy: 0.8884 | Train loss: 0.2463 | Valid loss: 0.3466\n",
      "100%|█████████████████████████████████████████████████████████████████████████████████████████████████████████████████████| 352/352 [00:10<00:00, 33.73it/s]\n",
      "100%|███████████████████████████████████████████████████████████████████████████████████████████████████████████████████████| 40/40 [00:00<00:00, 85.31it/s]\n",
      "Epoch 99\n",
      "Accuracy: 0.8870 | Train loss: 0.2498 | Valid loss: 0.3313\n",
      "100%|█████████████████████████████████████████████████████████████████████████████████████████████████████████████████████| 352/352 [00:10<00:00, 33.56it/s]\n",
      "100%|███████████████████████████████████████████████████████████████████████████████████████████████████████████████████████| 40/40 [00:00<00:00, 66.97it/s]\n",
      "Epoch 100\n",
      "Accuracy: 0.8860 | Train loss: 0.2447 | Valid loss: 0.3383\n",
      "100%|█████████████████████████████████████████████████████████████████████████████████████████████████████████████████████| 352/352 [00:10<00:00, 33.27it/s]\n",
      "100%|███████████████████████████████████████████████████████████████████████████████████████████████████████████████████████| 40/40 [00:00<00:00, 78.19it/s]\n",
      "Epoch 101\n",
      "Accuracy: 0.8660 | Train loss: 0.2471 | Valid loss: 0.4117\n",
      "100%|█████████████████████████████████████████████████████████████████████████████████████████████████████████████████████| 352/352 [00:10<00:00, 34.23it/s]\n",
      "100%|███████████████████████████████████████████████████████████████████████████████████████████████████████████████████████| 40/40 [00:00<00:00, 67.61it/s]\n",
      "Epoch 102\n",
      "Accuracy: 0.8592 | Train loss: 0.2480 | Valid loss: 0.4271\n",
      "100%|█████████████████████████████████████████████████████████████████████████████████████████████████████████████████████| 352/352 [00:10<00:00, 34.11it/s]\n",
      "100%|███████████████████████████████████████████████████████████████████████████████████████████████████████████████████████| 40/40 [00:00<00:00, 68.28it/s]\n",
      "Epoch 103\n",
      "Accuracy: 0.8724 | Train loss: 0.2519 | Valid loss: 0.3899\n",
      "100%|█████████████████████████████████████████████████████████████████████████████████████████████████████████████████████| 352/352 [00:10<00:00, 33.96it/s]\n",
      "100%|███████████████████████████████████████████████████████████████████████████████████████████████████████████████████████| 40/40 [00:00<00:00, 68.44it/s]\n",
      "Epoch 104\n",
      "Accuracy: 0.8830 | Train loss: 0.2397 | Valid loss: 0.3629\n",
      "100%|█████████████████████████████████████████████████████████████████████████████████████████████████████████████████████| 352/352 [00:10<00:00, 33.14it/s]\n",
      "100%|███████████████████████████████████████████████████████████████████████████████████████████████████████████████████████| 40/40 [00:00<00:00, 66.57it/s]\n",
      "Epoch 105\n",
      "Accuracy: 0.8836 | Train loss: 0.2488 | Valid loss: 0.3458\n",
      "100%|█████████████████████████████████████████████████████████████████████████████████████████████████████████████████████| 352/352 [00:10<00:00, 33.82it/s]\n",
      "100%|███████████████████████████████████████████████████████████████████████████████████████████████████████████████████████| 40/40 [00:00<00:00, 62.96it/s]\n",
      "Epoch 106\n",
      "Accuracy: 0.8820 | Train loss: 0.2426 | Valid loss: 0.3471\n",
      "100%|█████████████████████████████████████████████████████████████████████████████████████████████████████████████████████| 352/352 [00:10<00:00, 33.96it/s]\n",
      "100%|███████████████████████████████████████████████████████████████████████████████████████████████████████████████████████| 40/40 [00:00<00:00, 67.73it/s]\n",
      "Epoch 107\n",
      "Accuracy: 0.8740 | Train loss: 0.2463 | Valid loss: 0.3881\n",
      "100%|█████████████████████████████████████████████████████████████████████████████████████████████████████████████████████| 352/352 [00:10<00:00, 34.66it/s]\n",
      "100%|███████████████████████████████████████████████████████████████████████████████████████████████████████████████████████| 40/40 [00:00<00:00, 68.04it/s]\n",
      "Epoch 108\n",
      "Accuracy: 0.8840 | Train loss: 0.2437 | Valid loss: 0.3580\n",
      "100%|█████████████████████████████████████████████████████████████████████████████████████████████████████████████████████| 352/352 [00:10<00:00, 34.06it/s]\n",
      "100%|███████████████████████████████████████████████████████████████████████████████████████████████████████████████████████| 40/40 [00:00<00:00, 78.65it/s]\n",
      "Epoch 109\n"
     ]
    },
    {
     "name": "stderr",
     "output_type": "stream",
     "text": [
      "Accuracy: 0.8648 | Train loss: 0.2485 | Valid loss: 0.4028\n",
      "100%|█████████████████████████████████████████████████████████████████████████████████████████████████████████████████████| 352/352 [00:10<00:00, 33.85it/s]\n",
      "100%|███████████████████████████████████████████████████████████████████████████████████████████████████████████████████████| 40/40 [00:00<00:00, 65.80it/s]\n",
      "Epoch 110\n",
      "Accuracy: 0.8854 | Train loss: 0.2402 | Valid loss: 0.3396\n",
      "100%|█████████████████████████████████████████████████████████████████████████████████████████████████████████████████████| 352/352 [00:10<00:00, 34.51it/s]\n",
      "100%|███████████████████████████████████████████████████████████████████████████████████████████████████████████████████████| 40/40 [00:00<00:00, 67.72it/s]\n",
      "Epoch 111\n",
      "Accuracy: 0.8626 | Train loss: 0.2429 | Valid loss: 0.4302\n",
      "100%|█████████████████████████████████████████████████████████████████████████████████████████████████████████████████████| 352/352 [00:10<00:00, 33.48it/s]\n",
      "100%|███████████████████████████████████████████████████████████████████████████████████████████████████████████████████████| 40/40 [00:00<00:00, 67.73it/s]\n",
      "Epoch 112\n",
      "Accuracy: 0.8660 | Train loss: 0.2419 | Valid loss: 0.4164\n",
      "100%|█████████████████████████████████████████████████████████████████████████████████████████████████████████████████████| 352/352 [00:10<00:00, 33.44it/s]\n",
      "100%|███████████████████████████████████████████████████████████████████████████████████████████████████████████████████████| 40/40 [00:00<00:00, 66.59it/s]\n",
      "Epoch 113\n",
      "Accuracy: 0.8828 | Train loss: 0.2435 | Valid loss: 0.3706\n",
      "100%|█████████████████████████████████████████████████████████████████████████████████████████████████████████████████████| 352/352 [00:10<00:00, 33.73it/s]\n",
      "100%|███████████████████████████████████████████████████████████████████████████████████████████████████████████████████████| 40/40 [00:00<00:00, 74.13it/s]\n",
      "Epoch 114\n",
      "Accuracy: 0.8610 | Train loss: 0.2435 | Valid loss: 0.4254\n",
      "100%|█████████████████████████████████████████████████████████████████████████████████████████████████████████████████████| 352/352 [00:10<00:00, 33.53it/s]\n",
      "100%|███████████████████████████████████████████████████████████████████████████████████████████████████████████████████████| 40/40 [00:00<00:00, 68.66it/s]\n",
      "Epoch 115\n",
      "Accuracy: 0.8846 | Train loss: 0.2403 | Valid loss: 0.3489\n",
      "100%|█████████████████████████████████████████████████████████████████████████████████████████████████████████████████████| 352/352 [00:10<00:00, 33.55it/s]\n",
      "100%|███████████████████████████████████████████████████████████████████████████████████████████████████████████████████████| 40/40 [00:00<00:00, 68.23it/s]\n",
      "Epoch 116\n",
      "Accuracy: 0.8800 | Train loss: 0.2393 | Valid loss: 0.3495\n",
      "100%|█████████████████████████████████████████████████████████████████████████████████████████████████████████████████████| 352/352 [00:10<00:00, 34.05it/s]\n",
      "100%|███████████████████████████████████████████████████████████████████████████████████████████████████████████████████████| 40/40 [00:00<00:00, 72.14it/s]\n",
      "Epoch 117\n",
      "Accuracy: 0.8684 | Train loss: 0.2416 | Valid loss: 0.3844\n",
      "100%|█████████████████████████████████████████████████████████████████████████████████████████████████████████████████████| 352/352 [00:09<00:00, 35.96it/s]\n",
      "100%|███████████████████████████████████████████████████████████████████████████████████████████████████████████████████████| 40/40 [00:00<00:00, 67.51it/s]\n",
      "Epoch 118\n",
      "Accuracy: 0.8734 | Train loss: 0.2355 | Valid loss: 0.3939\n",
      "100%|█████████████████████████████████████████████████████████████████████████████████████████████████████████████████████| 352/352 [00:10<00:00, 33.20it/s]\n",
      "100%|███████████████████████████████████████████████████████████████████████████████████████████████████████████████████████| 40/40 [00:00<00:00, 79.02it/s]\n",
      "Epoch 119\n",
      "Accuracy: 0.8710 | Train loss: 0.2428 | Valid loss: 0.3866\n",
      "100%|█████████████████████████████████████████████████████████████████████████████████████████████████████████████████████| 352/352 [00:11<00:00, 30.13it/s]\n",
      "100%|███████████████████████████████████████████████████████████████████████████████████████████████████████████████████████| 40/40 [00:00<00:00, 68.35it/s]\n",
      "Epoch 120\n",
      "Accuracy: 0.8846 | Train loss: 0.2422 | Valid loss: 0.3423\n",
      "100%|█████████████████████████████████████████████████████████████████████████████████████████████████████████████████████| 352/352 [00:10<00:00, 34.98it/s]\n",
      "100%|███████████████████████████████████████████████████████████████████████████████████████████████████████████████████████| 40/40 [00:00<00:00, 66.35it/s]\n",
      "Epoch 121\n",
      "Accuracy: 0.9110 | Train loss: 0.1695 | Valid loss: 0.2607\n"
     ]
    },
    {
     "name": "stdout",
     "output_type": "stream",
     "text": [
      "YES\n",
      "Save Best Score: 0.9110 Model\n"
     ]
    },
    {
     "name": "stderr",
     "output_type": "stream",
     "text": [
      "100%|█████████████████████████████████████████████████████████████████████████████████████████████████████████████████████| 352/352 [00:09<00:00, 35.84it/s]\n",
      "100%|███████████████████████████████████████████████████████████████████████████████████████████████████████████████████████| 40/40 [00:00<00:00, 65.86it/s]\n",
      "Epoch 122\n",
      "Accuracy: 0.9116 | Train loss: 0.1462 | Valid loss: 0.2596\n"
     ]
    },
    {
     "name": "stdout",
     "output_type": "stream",
     "text": [
      "YES\n",
      "Save Best Score: 0.9116 Model\n"
     ]
    },
    {
     "name": "stderr",
     "output_type": "stream",
     "text": [
      "100%|█████████████████████████████████████████████████████████████████████████████████████████████████████████████████████| 352/352 [00:10<00:00, 34.24it/s]\n",
      "100%|███████████████████████████████████████████████████████████████████████████████████████████████████████████████████████| 40/40 [00:00<00:00, 66.42it/s]\n",
      "Epoch 123\n",
      "Accuracy: 0.9148 | Train loss: 0.1358 | Valid loss: 0.2538\n"
     ]
    },
    {
     "name": "stdout",
     "output_type": "stream",
     "text": [
      "YES\n",
      "Save Best Score: 0.9148 Model\n"
     ]
    },
    {
     "name": "stderr",
     "output_type": "stream",
     "text": [
      "100%|█████████████████████████████████████████████████████████████████████████████████████████████████████████████████████| 352/352 [00:10<00:00, 33.84it/s]\n",
      "100%|███████████████████████████████████████████████████████████████████████████████████████████████████████████████████████| 40/40 [00:00<00:00, 67.77it/s]\n",
      "Epoch 124\n",
      "Accuracy: 0.9166 | Train loss: 0.1330 | Valid loss: 0.2514\n"
     ]
    },
    {
     "name": "stdout",
     "output_type": "stream",
     "text": [
      "YES\n",
      "Save Best Score: 0.9166 Model\n"
     ]
    },
    {
     "name": "stderr",
     "output_type": "stream",
     "text": [
      "100%|█████████████████████████████████████████████████████████████████████████████████████████████████████████████████████| 352/352 [00:10<00:00, 33.93it/s]\n",
      "100%|███████████████████████████████████████████████████████████████████████████████████████████████████████████████████████| 40/40 [00:00<00:00, 67.33it/s]\n",
      "Epoch 125\n",
      "Accuracy: 0.9176 | Train loss: 0.1284 | Valid loss: 0.2498\n"
     ]
    },
    {
     "name": "stdout",
     "output_type": "stream",
     "text": [
      "YES\n",
      "Save Best Score: 0.9176 Model\n"
     ]
    },
    {
     "name": "stderr",
     "output_type": "stream",
     "text": [
      "100%|█████████████████████████████████████████████████████████████████████████████████████████████████████████████████████| 352/352 [00:10<00:00, 34.46it/s]\n",
      "100%|███████████████████████████████████████████████████████████████████████████████████████████████████████████████████████| 40/40 [00:00<00:00, 69.20it/s]\n",
      "Epoch 126\n",
      "Accuracy: 0.9128 | Train loss: 0.1254 | Valid loss: 0.2554\n",
      "100%|█████████████████████████████████████████████████████████████████████████████████████████████████████████████████████| 352/352 [00:10<00:00, 35.14it/s]\n",
      "100%|███████████████████████████████████████████████████████████████████████████████████████████████████████████████████████| 40/40 [00:00<00:00, 65.65it/s]\n",
      "Epoch 127\n",
      "Accuracy: 0.9168 | Train loss: 0.1244 | Valid loss: 0.2519\n",
      "100%|█████████████████████████████████████████████████████████████████████████████████████████████████████████████████████| 352/352 [00:09<00:00, 35.26it/s]\n",
      "100%|███████████████████████████████████████████████████████████████████████████████████████████████████████████████████████| 40/40 [00:00<00:00, 66.51it/s]\n",
      "Epoch 128\n",
      "Accuracy: 0.9200 | Train loss: 0.1195 | Valid loss: 0.2517\n"
     ]
    },
    {
     "name": "stdout",
     "output_type": "stream",
     "text": [
      "YES\n",
      "Save Best Score: 0.9200 Model\n"
     ]
    },
    {
     "name": "stderr",
     "output_type": "stream",
     "text": [
      "100%|█████████████████████████████████████████████████████████████████████████████████████████████████████████████████████| 352/352 [00:10<00:00, 35.07it/s]\n",
      "100%|███████████████████████████████████████████████████████████████████████████████████████████████████████████████████████| 40/40 [00:00<00:00, 66.09it/s]\n",
      "Epoch 129\n",
      "Accuracy: 0.9156 | Train loss: 0.1148 | Valid loss: 0.2576\n",
      "100%|█████████████████████████████████████████████████████████████████████████████████████████████████████████████████████| 352/352 [00:10<00:00, 35.07it/s]\n",
      "100%|███████████████████████████████████████████████████████████████████████████████████████████████████████████████████████| 40/40 [00:00<00:00, 74.67it/s]\n",
      "Epoch 130\n",
      "Accuracy: 0.9158 | Train loss: 0.1124 | Valid loss: 0.2703\n",
      "100%|█████████████████████████████████████████████████████████████████████████████████████████████████████████████████████| 352/352 [00:10<00:00, 35.05it/s]\n",
      "100%|███████████████████████████████████████████████████████████████████████████████████████████████████████████████████████| 40/40 [00:00<00:00, 80.27it/s]\n",
      "Epoch 131\n",
      "Accuracy: 0.9150 | Train loss: 0.1151 | Valid loss: 0.2581\n",
      "100%|█████████████████████████████████████████████████████████████████████████████████████████████████████████████████████| 352/352 [00:10<00:00, 34.38it/s]\n",
      "100%|███████████████████████████████████████████████████████████████████████████████████████████████████████████████████████| 40/40 [00:00<00:00, 63.42it/s]\n",
      "Epoch 132\n",
      "Accuracy: 0.9164 | Train loss: 0.1124 | Valid loss: 0.2568\n",
      "100%|█████████████████████████████████████████████████████████████████████████████████████████████████████████████████████| 352/352 [00:09<00:00, 35.58it/s]\n",
      "100%|███████████████████████████████████████████████████████████████████████████████████████████████████████████████████████| 40/40 [00:00<00:00, 79.92it/s]\n",
      "Epoch 133\n",
      "Accuracy: 0.9180 | Train loss: 0.1115 | Valid loss: 0.2648\n",
      "100%|█████████████████████████████████████████████████████████████████████████████████████████████████████████████████████| 352/352 [00:10<00:00, 34.24it/s]\n",
      "100%|███████████████████████████████████████████████████████████████████████████████████████████████████████████████████████| 40/40 [00:00<00:00, 77.49it/s]\n",
      "Epoch 134\n",
      "Accuracy: 0.9164 | Train loss: 0.1131 | Valid loss: 0.2595\n",
      "100%|█████████████████████████████████████████████████████████████████████████████████████████████████████████████████████| 352/352 [00:09<00:00, 35.51it/s]\n",
      "100%|███████████████████████████████████████████████████████████████████████████████████████████████████████████████████████| 40/40 [00:00<00:00, 81.63it/s]\n",
      "Epoch 135\n",
      "Accuracy: 0.9174 | Train loss: 0.1079 | Valid loss: 0.2598\n",
      "100%|█████████████████████████████████████████████████████████████████████████████████████████████████████████████████████| 352/352 [00:09<00:00, 35.54it/s]\n",
      "100%|███████████████████████████████████████████████████████████████████████████████████████████████████████████████████████| 40/40 [00:00<00:00, 69.03it/s]\n",
      "Epoch 136\n",
      "Accuracy: 0.9166 | Train loss: 0.1078 | Valid loss: 0.2564\n",
      "100%|█████████████████████████████████████████████████████████████████████████████████████████████████████████████████████| 352/352 [00:10<00:00, 35.17it/s]\n",
      "100%|███████████████████████████████████████████████████████████████████████████████████████████████████████████████████████| 40/40 [00:00<00:00, 64.34it/s]\n",
      "Epoch 137\n",
      "Accuracy: 0.9168 | Train loss: 0.1096 | Valid loss: 0.2652\n",
      "100%|█████████████████████████████████████████████████████████████████████████████████████████████████████████████████████| 352/352 [00:09<00:00, 35.84it/s]\n",
      "100%|███████████████████████████████████████████████████████████████████████████████████████████████████████████████████████| 40/40 [00:00<00:00, 70.97it/s]\n",
      "Epoch 138\n",
      "Accuracy: 0.9184 | Train loss: 0.1057 | Valid loss: 0.2623\n",
      "100%|█████████████████████████████████████████████████████████████████████████████████████████████████████████████████████| 352/352 [00:10<00:00, 35.10it/s]\n",
      "100%|███████████████████████████████████████████████████████████████████████████████████████████████████████████████████████| 40/40 [00:00<00:00, 83.44it/s]\n",
      "Epoch 139\n",
      "Accuracy: 0.9142 | Train loss: 0.1042 | Valid loss: 0.2705\n",
      "100%|█████████████████████████████████████████████████████████████████████████████████████████████████████████████████████| 352/352 [00:10<00:00, 34.57it/s]\n",
      "100%|███████████████████████████████████████████████████████████████████████████████████████████████████████████████████████| 40/40 [00:00<00:00, 67.86it/s]\n",
      "Epoch 140\n",
      "Accuracy: 0.9166 | Train loss: 0.1032 | Valid loss: 0.2724\n",
      "100%|█████████████████████████████████████████████████████████████████████████████████████████████████████████████████████| 352/352 [00:09<00:00, 35.71it/s]\n",
      "100%|███████████████████████████████████████████████████████████████████████████████████████████████████████████████████████| 40/40 [00:00<00:00, 76.28it/s]\n",
      "Epoch 141\n",
      "Accuracy: 0.9158 | Train loss: 0.1072 | Valid loss: 0.2675\n",
      "100%|█████████████████████████████████████████████████████████████████████████████████████████████████████████████████████| 352/352 [00:09<00:00, 35.26it/s]\n",
      "100%|███████████████████████████████████████████████████████████████████████████████████████████████████████████████████████| 40/40 [00:00<00:00, 67.43it/s]\n",
      "Epoch 142\n",
      "Accuracy: 0.9136 | Train loss: 0.1032 | Valid loss: 0.2837\n",
      "100%|█████████████████████████████████████████████████████████████████████████████████████████████████████████████████████| 352/352 [00:10<00:00, 34.84it/s]\n",
      "100%|███████████████████████████████████████████████████████████████████████████████████████████████████████████████████████| 40/40 [00:00<00:00, 70.20it/s]\n",
      "Epoch 143\n",
      "Accuracy: 0.9178 | Train loss: 0.1018 | Valid loss: 0.2778\n",
      "100%|█████████████████████████████████████████████████████████████████████████████████████████████████████████████████████| 352/352 [00:09<00:00, 35.40it/s]\n",
      "100%|███████████████████████████████████████████████████████████████████████████████████████████████████████████████████████| 40/40 [00:00<00:00, 78.26it/s]\n",
      "Epoch 144\n",
      "Accuracy: 0.9182 | Train loss: 0.1025 | Valid loss: 0.2625\n",
      "100%|█████████████████████████████████████████████████████████████████████████████████████████████████████████████████████| 352/352 [00:10<00:00, 33.86it/s]\n",
      "100%|███████████████████████████████████████████████████████████████████████████████████████████████████████████████████████| 40/40 [00:00<00:00, 69.67it/s]\n",
      "Epoch 145\n",
      "Accuracy: 0.9164 | Train loss: 0.1039 | Valid loss: 0.2747\n",
      "100%|█████████████████████████████████████████████████████████████████████████████████████████████████████████████████████| 352/352 [00:10<00:00, 34.89it/s]\n",
      "100%|███████████████████████████████████████████████████████████████████████████████████████████████████████████████████████| 40/40 [00:00<00:00, 68.42it/s]\n",
      "Epoch 146\n",
      "Accuracy: 0.9152 | Train loss: 0.1015 | Valid loss: 0.2879\n",
      "100%|█████████████████████████████████████████████████████████████████████████████████████████████████████████████████████| 352/352 [00:10<00:00, 34.57it/s]\n",
      "100%|███████████████████████████████████████████████████████████████████████████████████████████████████████████████████████| 40/40 [00:00<00:00, 69.47it/s]\n",
      "Epoch 147\n",
      "Accuracy: 0.9138 | Train loss: 0.1003 | Valid loss: 0.2835\n",
      "100%|█████████████████████████████████████████████████████████████████████████████████████████████████████████████████████| 352/352 [00:09<00:00, 35.29it/s]\n",
      "100%|███████████████████████████████████████████████████████████████████████████████████████████████████████████████████████| 40/40 [00:00<00:00, 67.07it/s]\n",
      "Epoch 148\n",
      "Accuracy: 0.9156 | Train loss: 0.1009 | Valid loss: 0.2829\n",
      "100%|█████████████████████████████████████████████████████████████████████████████████████████████████████████████████████| 352/352 [00:10<00:00, 34.69it/s]\n",
      "100%|███████████████████████████████████████████████████████████████████████████████████████████████████████████████████████| 40/40 [00:00<00:00, 66.81it/s]\n",
      "Epoch 149\n",
      "Accuracy: 0.9128 | Train loss: 0.1008 | Valid loss: 0.2924\n"
     ]
    },
    {
     "name": "stderr",
     "output_type": "stream",
     "text": [
      "100%|█████████████████████████████████████████████████████████████████████████████████████████████████████████████████████| 352/352 [00:09<00:00, 35.76it/s]\n",
      "100%|███████████████████████████████████████████████████████████████████████████████████████████████████████████████████████| 40/40 [00:00<00:00, 76.96it/s]\n",
      "Epoch 150\n",
      "Accuracy: 0.9176 | Train loss: 0.0993 | Valid loss: 0.2705\n",
      "100%|█████████████████████████████████████████████████████████████████████████████████████████████████████████████████████| 352/352 [00:10<00:00, 35.17it/s]\n",
      "100%|███████████████████████████████████████████████████████████████████████████████████████████████████████████████████████| 40/40 [00:00<00:00, 76.81it/s]\n",
      "Epoch 151\n",
      "Accuracy: 0.9068 | Train loss: 0.0985 | Valid loss: 0.3059\n",
      "100%|█████████████████████████████████████████████████████████████████████████████████████████████████████████████████████| 352/352 [00:10<00:00, 34.95it/s]\n",
      "100%|███████████████████████████████████████████████████████████████████████████████████████████████████████████████████████| 40/40 [00:00<00:00, 66.65it/s]\n",
      "Epoch 152\n",
      "Accuracy: 0.9104 | Train loss: 0.1007 | Valid loss: 0.2958\n",
      "100%|█████████████████████████████████████████████████████████████████████████████████████████████████████████████████████| 352/352 [00:10<00:00, 35.08it/s]\n",
      "100%|███████████████████████████████████████████████████████████████████████████████████████████████████████████████████████| 40/40 [00:00<00:00, 83.93it/s]\n",
      "Epoch 153\n",
      "Accuracy: 0.9148 | Train loss: 0.0989 | Valid loss: 0.2853\n",
      "100%|█████████████████████████████████████████████████████████████████████████████████████████████████████████████████████| 352/352 [00:10<00:00, 35.12it/s]\n",
      "100%|███████████████████████████████████████████████████████████████████████████████████████████████████████████████████████| 40/40 [00:00<00:00, 71.25it/s]\n",
      "Epoch 154\n",
      "Accuracy: 0.9098 | Train loss: 0.1004 | Valid loss: 0.2942\n",
      "100%|█████████████████████████████████████████████████████████████████████████████████████████████████████████████████████| 352/352 [00:09<00:00, 35.22it/s]\n",
      "100%|███████████████████████████████████████████████████████████████████████████████████████████████████████████████████████| 40/40 [00:00<00:00, 80.93it/s]\n",
      "Epoch 155\n",
      "Accuracy: 0.9122 | Train loss: 0.1019 | Valid loss: 0.2970\n",
      "100%|█████████████████████████████████████████████████████████████████████████████████████████████████████████████████████| 352/352 [00:10<00:00, 34.98it/s]\n",
      "100%|███████████████████████████████████████████████████████████████████████████████████████████████████████████████████████| 40/40 [00:00<00:00, 67.61it/s]\n",
      "Epoch 156\n",
      "Accuracy: 0.9088 | Train loss: 0.1022 | Valid loss: 0.3060\n",
      "100%|█████████████████████████████████████████████████████████████████████████████████████████████████████████████████████| 352/352 [00:10<00:00, 35.00it/s]\n",
      "100%|███████████████████████████████████████████████████████████████████████████████████████████████████████████████████████| 40/40 [00:00<00:00, 73.47it/s]\n",
      "Epoch 157\n",
      "Accuracy: 0.9088 | Train loss: 0.0990 | Valid loss: 0.2964\n",
      "100%|█████████████████████████████████████████████████████████████████████████████████████████████████████████████████████| 352/352 [00:09<00:00, 35.39it/s]\n",
      "100%|███████████████████████████████████████████████████████████████████████████████████████████████████████████████████████| 40/40 [00:00<00:00, 66.87it/s]\n",
      "Epoch 158\n",
      "Accuracy: 0.9084 | Train loss: 0.0987 | Valid loss: 0.3022\n",
      "100%|█████████████████████████████████████████████████████████████████████████████████████████████████████████████████████| 352/352 [00:09<00:00, 35.46it/s]\n",
      "100%|███████████████████████████████████████████████████████████████████████████████████████████████████████████████████████| 40/40 [00:00<00:00, 66.67it/s]\n",
      "Epoch 159\n",
      "Accuracy: 0.9094 | Train loss: 0.1014 | Valid loss: 0.3008\n",
      "100%|█████████████████████████████████████████████████████████████████████████████████████████████████████████████████████| 352/352 [00:09<00:00, 35.40it/s]\n",
      "100%|███████████████████████████████████████████████████████████████████████████████████████████████████████████████████████| 40/40 [00:00<00:00, 68.29it/s]\n",
      "Epoch 160\n",
      "Accuracy: 0.9144 | Train loss: 0.0981 | Valid loss: 0.2868\n",
      "100%|█████████████████████████████████████████████████████████████████████████████████████████████████████████████████████| 352/352 [00:10<00:00, 35.19it/s]\n",
      "100%|███████████████████████████████████████████████████████████████████████████████████████████████████████████████████████| 40/40 [00:00<00:00, 65.07it/s]\n",
      "Epoch 161\n",
      "Accuracy: 0.9208 | Train loss: 0.0795 | Valid loss: 0.2603\n"
     ]
    },
    {
     "name": "stdout",
     "output_type": "stream",
     "text": [
      "YES\n",
      "Save Best Score: 0.9208 Model\n"
     ]
    },
    {
     "name": "stderr",
     "output_type": "stream",
     "text": [
      "100%|█████████████████████████████████████████████████████████████████████████████████████████████████████████████████████| 352/352 [00:09<00:00, 35.28it/s]\n",
      "100%|███████████████████████████████████████████████████████████████████████████████████████████████████████████████████████| 40/40 [00:00<00:00, 68.21it/s]\n",
      "Epoch 162\n",
      "Accuracy: 0.9206 | Train loss: 0.0726 | Valid loss: 0.2588\n",
      "100%|█████████████████████████████████████████████████████████████████████████████████████████████████████████████████████| 352/352 [00:09<00:00, 35.35it/s]\n",
      "100%|███████████████████████████████████████████████████████████████████████████████████████████████████████████████████████| 40/40 [00:00<00:00, 66.46it/s]\n",
      "Epoch 163\n",
      "Accuracy: 0.9224 | Train loss: 0.0699 | Valid loss: 0.2577\n"
     ]
    },
    {
     "name": "stdout",
     "output_type": "stream",
     "text": [
      "YES\n",
      "Save Best Score: 0.9224 Model\n"
     ]
    },
    {
     "name": "stderr",
     "output_type": "stream",
     "text": [
      "100%|█████████████████████████████████████████████████████████████████████████████████████████████████████████████████████| 352/352 [00:09<00:00, 35.55it/s]\n",
      "100%|███████████████████████████████████████████████████████████████████████████████████████████████████████████████████████| 40/40 [00:00<00:00, 66.67it/s]\n",
      "Epoch 164\n",
      "Accuracy: 0.9220 | Train loss: 0.0681 | Valid loss: 0.2555\n",
      "100%|█████████████████████████████████████████████████████████████████████████████████████████████████████████████████████| 352/352 [00:10<00:00, 34.71it/s]\n",
      "100%|███████████████████████████████████████████████████████████████████████████████████████████████████████████████████████| 40/40 [00:00<00:00, 66.12it/s]\n",
      "Epoch 165\n",
      "Accuracy: 0.9206 | Train loss: 0.0657 | Valid loss: 0.2614\n",
      "100%|█████████████████████████████████████████████████████████████████████████████████████████████████████████████████████| 352/352 [00:10<00:00, 34.77it/s]\n",
      "100%|███████████████████████████████████████████████████████████████████████████████████████████████████████████████████████| 40/40 [00:00<00:00, 80.55it/s]\n",
      "Epoch 166\n",
      "Accuracy: 0.9226 | Train loss: 0.0616 | Valid loss: 0.2568\n"
     ]
    },
    {
     "name": "stdout",
     "output_type": "stream",
     "text": [
      "YES\n",
      "Save Best Score: 0.9226 Model\n"
     ]
    },
    {
     "name": "stderr",
     "output_type": "stream",
     "text": [
      "100%|█████████████████████████████████████████████████████████████████████████████████████████████████████████████████████| 352/352 [00:09<00:00, 35.34it/s]\n",
      "100%|███████████████████████████████████████████████████████████████████████████████████████████████████████████████████████| 40/40 [00:00<00:00, 70.20it/s]\n",
      "Epoch 167\n",
      "Accuracy: 0.9200 | Train loss: 0.0639 | Valid loss: 0.2606\n",
      "100%|█████████████████████████████████████████████████████████████████████████████████████████████████████████████████████| 352/352 [00:09<00:00, 35.37it/s]\n",
      "100%|███████████████████████████████████████████████████████████████████████████████████████████████████████████████████████| 40/40 [00:00<00:00, 69.49it/s]\n",
      "Epoch 168\n",
      "Accuracy: 0.9202 | Train loss: 0.0648 | Valid loss: 0.2651\n",
      "100%|█████████████████████████████████████████████████████████████████████████████████████████████████████████████████████| 352/352 [00:09<00:00, 35.78it/s]\n",
      "100%|███████████████████████████████████████████████████████████████████████████████████████████████████████████████████████| 40/40 [00:00<00:00, 64.03it/s]\n",
      "Epoch 169\n",
      "Accuracy: 0.9200 | Train loss: 0.0649 | Valid loss: 0.2620\n",
      "100%|█████████████████████████████████████████████████████████████████████████████████████████████████████████████████████| 352/352 [00:09<00:00, 35.99it/s]\n",
      "100%|███████████████████████████████████████████████████████████████████████████████████████████████████████████████████████| 40/40 [00:00<00:00, 73.16it/s]\n",
      "Epoch 170\n",
      "Accuracy: 0.9200 | Train loss: 0.0607 | Valid loss: 0.2612\n",
      "100%|█████████████████████████████████████████████████████████████████████████████████████████████████████████████████████| 352/352 [00:10<00:00, 35.15it/s]\n",
      "100%|███████████████████████████████████████████████████████████████████████████████████████████████████████████████████████| 40/40 [00:00<00:00, 68.45it/s]\n",
      "Epoch 171\n",
      "Accuracy: 0.9210 | Train loss: 0.0600 | Valid loss: 0.2648\n",
      "100%|█████████████████████████████████████████████████████████████████████████████████████████████████████████████████████| 352/352 [00:09<00:00, 35.34it/s]\n",
      "100%|███████████████████████████████████████████████████████████████████████████████████████████████████████████████████████| 40/40 [00:00<00:00, 67.70it/s]\n",
      "Epoch 172\n",
      "Accuracy: 0.9202 | Train loss: 0.0610 | Valid loss: 0.2648\n",
      "100%|█████████████████████████████████████████████████████████████████████████████████████████████████████████████████████| 352/352 [00:09<00:00, 35.21it/s]\n",
      "100%|███████████████████████████████████████████████████████████████████████████████████████████████████████████████████████| 40/40 [00:00<00:00, 72.18it/s]\n",
      "Epoch 173\n",
      "Accuracy: 0.9192 | Train loss: 0.0611 | Valid loss: 0.2624\n",
      "100%|█████████████████████████████████████████████████████████████████████████████████████████████████████████████████████| 352/352 [00:09<00:00, 35.47it/s]\n",
      "100%|███████████████████████████████████████████████████████████████████████████████████████████████████████████████████████| 40/40 [00:00<00:00, 80.64it/s]\n",
      "Epoch 174\n",
      "Accuracy: 0.9212 | Train loss: 0.0606 | Valid loss: 0.2622\n",
      "100%|█████████████████████████████████████████████████████████████████████████████████████████████████████████████████████| 352/352 [00:09<00:00, 35.44it/s]\n",
      "100%|███████████████████████████████████████████████████████████████████████████████████████████████████████████████████████| 40/40 [00:00<00:00, 66.25it/s]\n",
      "Epoch 175\n",
      "Accuracy: 0.9228 | Train loss: 0.0604 | Valid loss: 0.2629\n"
     ]
    },
    {
     "name": "stdout",
     "output_type": "stream",
     "text": [
      "YES\n",
      "Save Best Score: 0.9228 Model\n"
     ]
    },
    {
     "name": "stderr",
     "output_type": "stream",
     "text": [
      "100%|█████████████████████████████████████████████████████████████████████████████████████████████████████████████████████| 352/352 [00:10<00:00, 35.15it/s]\n",
      "100%|███████████████████████████████████████████████████████████████████████████████████████████████████████████████████████| 40/40 [00:00<00:00, 68.06it/s]\n",
      "Epoch 176\n",
      "Accuracy: 0.9232 | Train loss: 0.0575 | Valid loss: 0.2635\n"
     ]
    },
    {
     "name": "stdout",
     "output_type": "stream",
     "text": [
      "YES\n",
      "Save Best Score: 0.9232 Model\n"
     ]
    },
    {
     "name": "stderr",
     "output_type": "stream",
     "text": [
      "100%|█████████████████████████████████████████████████████████████████████████████████████████████████████████████████████| 352/352 [00:09<00:00, 35.27it/s]\n",
      "100%|███████████████████████████████████████████████████████████████████████████████████████████████████████████████████████| 40/40 [00:00<00:00, 84.19it/s]\n",
      "Epoch 177\n",
      "Accuracy: 0.9206 | Train loss: 0.0583 | Valid loss: 0.2624\n",
      "100%|█████████████████████████████████████████████████████████████████████████████████████████████████████████████████████| 352/352 [00:10<00:00, 34.30it/s]\n",
      "100%|███████████████████████████████████████████████████████████████████████████████████████████████████████████████████████| 40/40 [00:00<00:00, 67.68it/s]\n",
      "Epoch 178\n",
      "Accuracy: 0.9202 | Train loss: 0.0603 | Valid loss: 0.2685\n",
      "100%|█████████████████████████████████████████████████████████████████████████████████████████████████████████████████████| 352/352 [00:10<00:00, 34.86it/s]\n",
      "100%|███████████████████████████████████████████████████████████████████████████████████████████████████████████████████████| 40/40 [00:00<00:00, 83.22it/s]\n",
      "Epoch 179\n",
      "Accuracy: 0.9200 | Train loss: 0.0562 | Valid loss: 0.2660\n",
      "100%|█████████████████████████████████████████████████████████████████████████████████████████████████████████████████████| 352/352 [00:10<00:00, 34.31it/s]\n",
      "100%|███████████████████████████████████████████████████████████████████████████████████████████████████████████████████████| 40/40 [00:00<00:00, 69.72it/s]\n",
      "Epoch 180\n",
      "Accuracy: 0.9238 | Train loss: 0.0586 | Valid loss: 0.2618\n"
     ]
    },
    {
     "name": "stdout",
     "output_type": "stream",
     "text": [
      "YES\n",
      "Save Best Score: 0.9238 Model\n"
     ]
    },
    {
     "name": "stderr",
     "output_type": "stream",
     "text": [
      "100%|█████████████████████████████████████████████████████████████████████████████████████████████████████████████████████| 352/352 [00:10<00:00, 34.99it/s]\n",
      "100%|███████████████████████████████████████████████████████████████████████████████████████████████████████████████████████| 40/40 [00:00<00:00, 65.14it/s]\n",
      "Epoch 181\n",
      "Accuracy: 0.9196 | Train loss: 0.0566 | Valid loss: 0.2643\n",
      "100%|█████████████████████████████████████████████████████████████████████████████████████████████████████████████████████| 352/352 [00:09<00:00, 35.55it/s]\n",
      "100%|███████████████████████████████████████████████████████████████████████████████████████████████████████████████████████| 40/40 [00:00<00:00, 66.29it/s]\n",
      "Epoch 182\n",
      "Accuracy: 0.9222 | Train loss: 0.0576 | Valid loss: 0.2672\n",
      "100%|█████████████████████████████████████████████████████████████████████████████████████████████████████████████████████| 352/352 [00:10<00:00, 35.07it/s]\n",
      "100%|███████████████████████████████████████████████████████████████████████████████████████████████████████████████████████| 40/40 [00:00<00:00, 67.42it/s]\n",
      "Epoch 183\n",
      "Accuracy: 0.9218 | Train loss: 0.0569 | Valid loss: 0.2602\n",
      "100%|█████████████████████████████████████████████████████████████████████████████████████████████████████████████████████| 352/352 [00:09<00:00, 35.42it/s]\n",
      "100%|███████████████████████████████████████████████████████████████████████████████████████████████████████████████████████| 40/40 [00:00<00:00, 69.57it/s]\n",
      "Epoch 184\n",
      "Accuracy: 0.9242 | Train loss: 0.0556 | Valid loss: 0.2672\n"
     ]
    },
    {
     "name": "stdout",
     "output_type": "stream",
     "text": [
      "YES\n",
      "Save Best Score: 0.9242 Model\n"
     ]
    },
    {
     "name": "stderr",
     "output_type": "stream",
     "text": [
      "100%|█████████████████████████████████████████████████████████████████████████████████████████████████████████████████████| 352/352 [00:10<00:00, 35.15it/s]\n",
      "100%|███████████████████████████████████████████████████████████████████████████████████████████████████████████████████████| 40/40 [00:00<00:00, 73.84it/s]\n",
      "Epoch 185\n",
      "Accuracy: 0.9222 | Train loss: 0.0574 | Valid loss: 0.2702\n",
      "100%|█████████████████████████████████████████████████████████████████████████████████████████████████████████████████████| 352/352 [00:10<00:00, 34.83it/s]\n",
      "100%|███████████████████████████████████████████████████████████████████████████████████████████████████████████████████████| 40/40 [00:00<00:00, 67.01it/s]\n",
      "Epoch 186\n",
      "Accuracy: 0.9216 | Train loss: 0.0568 | Valid loss: 0.2645\n",
      "100%|█████████████████████████████████████████████████████████████████████████████████████████████████████████████████████| 352/352 [00:10<00:00, 34.84it/s]\n",
      "100%|███████████████████████████████████████████████████████████████████████████████████████████████████████████████████████| 40/40 [00:00<00:00, 67.55it/s]\n",
      "Epoch 187\n",
      "Accuracy: 0.9194 | Train loss: 0.0562 | Valid loss: 0.2672\n",
      "100%|█████████████████████████████████████████████████████████████████████████████████████████████████████████████████████| 352/352 [00:10<00:00, 34.50it/s]\n",
      "100%|███████████████████████████████████████████████████████████████████████████████████████████████████████████████████████| 40/40 [00:00<00:00, 75.69it/s]\n",
      "Epoch 188\n",
      "Accuracy: 0.9212 | Train loss: 0.0538 | Valid loss: 0.2667\n",
      "100%|█████████████████████████████████████████████████████████████████████████████████████████████████████████████████████| 352/352 [00:10<00:00, 34.62it/s]\n",
      "100%|███████████████████████████████████████████████████████████████████████████████████████████████████████████████████████| 40/40 [00:00<00:00, 77.66it/s]\n",
      "Epoch 189\n",
      "Accuracy: 0.9214 | Train loss: 0.0567 | Valid loss: 0.2638\n",
      "100%|█████████████████████████████████████████████████████████████████████████████████████████████████████████████████████| 352/352 [00:09<00:00, 35.59it/s]\n",
      "100%|███████████████████████████████████████████████████████████████████████████████████████████████████████████████████████| 40/40 [00:00<00:00, 66.94it/s]\n",
      "Epoch 190\n",
      "Accuracy: 0.9202 | Train loss: 0.0539 | Valid loss: 0.2686\n",
      "100%|█████████████████████████████████████████████████████████████████████████████████████████████████████████████████████| 352/352 [00:09<00:00, 35.41it/s]\n",
      "100%|███████████████████████████████████████████████████████████████████████████████████████████████████████████████████████| 40/40 [00:00<00:00, 74.13it/s]\n",
      "Epoch 191\n",
      "Accuracy: 0.9218 | Train loss: 0.0530 | Valid loss: 0.2632\n",
      "100%|█████████████████████████████████████████████████████████████████████████████████████████████████████████████████████| 352/352 [00:09<00:00, 35.46it/s]\n",
      "100%|███████████████████████████████████████████████████████████████████████████████████████████████████████████████████████| 40/40 [00:00<00:00, 74.45it/s]\n",
      "Epoch 192\n",
      "Accuracy: 0.9178 | Train loss: 0.0545 | Valid loss: 0.2682\n",
      "100%|█████████████████████████████████████████████████████████████████████████████████████████████████████████████████████| 352/352 [00:10<00:00, 35.12it/s]\n",
      "100%|███████████████████████████████████████████████████████████████████████████████████████████████████████████████████████| 40/40 [00:00<00:00, 69.35it/s]\n",
      "Epoch 193\n",
      "Accuracy: 0.9208 | Train loss: 0.0526 | Valid loss: 0.2708\n",
      "100%|█████████████████████████████████████████████████████████████████████████████████████████████████████████████████████| 352/352 [00:10<00:00, 35.18it/s]\n",
      "100%|███████████████████████████████████████████████████████████████████████████████████████████████████████████████████████| 40/40 [00:00<00:00, 75.86it/s]\n",
      "Epoch 194\n",
      "Accuracy: 0.9222 | Train loss: 0.0531 | Valid loss: 0.2691\n",
      "100%|█████████████████████████████████████████████████████████████████████████████████████████████████████████████████████| 352/352 [00:10<00:00, 34.83it/s]\n",
      "100%|███████████████████████████████████████████████████████████████████████████████████████████████████████████████████████| 40/40 [00:00<00:00, 75.35it/s]\n",
      "Epoch 195\n",
      "Accuracy: 0.9178 | Train loss: 0.0536 | Valid loss: 0.2693\n",
      "100%|█████████████████████████████████████████████████████████████████████████████████████████████████████████████████████| 352/352 [00:09<00:00, 35.65it/s]\n",
      "100%|███████████████████████████████████████████████████████████████████████████████████████████████████████████████████████| 40/40 [00:00<00:00, 70.75it/s]\n",
      "Epoch 196\n",
      "Accuracy: 0.9212 | Train loss: 0.0531 | Valid loss: 0.2711\n",
      "100%|█████████████████████████████████████████████████████████████████████████████████████████████████████████████████████| 352/352 [00:09<00:00, 35.30it/s]\n",
      "100%|███████████████████████████████████████████████████████████████████████████████████████████████████████████████████████| 40/40 [00:00<00:00, 66.52it/s]\n",
      "Epoch 197\n",
      "Accuracy: 0.9224 | Train loss: 0.0525 | Valid loss: 0.2702\n",
      "100%|█████████████████████████████████████████████████████████████████████████████████████████████████████████████████████| 352/352 [00:09<00:00, 35.32it/s]\n",
      "100%|███████████████████████████████████████████████████████████████████████████████████████████████████████████████████████| 40/40 [00:00<00:00, 79.82it/s]\n",
      "Epoch 198\n",
      "Accuracy: 0.9220 | Train loss: 0.0530 | Valid loss: 0.2679\n",
      "100%|█████████████████████████████████████████████████████████████████████████████████████████████████████████████████████| 352/352 [00:09<00:00, 35.40it/s]\n",
      "100%|███████████████████████████████████████████████████████████████████████████████████████████████████████████████████████| 40/40 [00:00<00:00, 75.41it/s]\n",
      "Epoch 199\n",
      "Accuracy: 0.9218 | Train loss: 0.0535 | Valid loss: 0.2667\n",
      "100%|█████████████████████████████████████████████████████████████████████████████████████████████████████████████████████| 352/352 [00:09<00:00, 36.12it/s]\n",
      "100%|███████████████████████████████████████████████████████████████████████████████████████████████████████████████████████| 40/40 [00:00<00:00, 79.82it/s]\n",
      "Epoch 200\n",
      "Accuracy: 0.9206 | Train loss: 0.0535 | Valid loss: 0.2696\n"
     ]
    }
   ],
   "source": [
    "best_score = 0\n",
    "training_logs = {'train_loss':[], 'valid_loss':[], 'accuracy':[]}\n",
    "\n",
    "for epoch in range(CFG.epochs):\n",
    "    \n",
    "    start_time = time.time()\n",
    "    \n",
    "    avg_loss = train_fn(train_loader, model, criterion, optimizer, device)\n",
    "    avg_val_loss, score = valid_fn(valid_loader, model, criterion, device)\n",
    "    \n",
    "    scheduler.step()\n",
    "    \n",
    "    training_logs['train_loss'].append(avg_loss)\n",
    "    training_logs['valid_loss'].append(avg_val_loss)\n",
    "    training_logs['accuracy'].append(score)\n",
    "    \n",
    "    LOGGER.info(f\"Epoch {epoch+1}\")\n",
    "    LOGGER.info(f\"Accuracy: {score:.4f} | Train loss: {avg_loss:.4f} | Valid loss: {avg_val_loss:.4f}\")\n",
    "    \n",
    "    if score > best_score:\n",
    "        print(\"YES\")\n",
    "        best_score = score\n",
    "        print(f'Save Best Score: {best_score:.4f} Model')\n",
    "        torch.save(model.state_dict(), f\"best_model_wrn16-1.pt\")\n",
    "        \n",
    "    elapsed = time.time() - start_time"
   ]
  },
  {
   "cell_type": "code",
   "execution_count": 25,
   "id": "b303f22d",
   "metadata": {},
   "outputs": [
    {
     "data": {
      "text/plain": [
       "[<matplotlib.lines.Line2D at 0x7f0f88e3b340>]"
      ]
     },
     "execution_count": 25,
     "metadata": {},
     "output_type": "execute_result"
    },
    {
     "data": {
      "image/png": "[encoded data removed]",
      "text/plain": [
       "<Figure size 800x600 with 1 Axes>"
      ]
     },
     "metadata": {
      "needs_background": "light"
     },
     "output_type": "display_data"
    }
   ],
   "source": [
    "plt.figure(figsize=(4, 3), dpi=200)\n",
    "plt.plot(training_logs['train_loss'])\n",
    "plt.plot(training_logs['valid_loss'])"
   ]
  },
  {
   "cell_type": "code",
   "execution_count": 26,
   "id": "87d50b44",
   "metadata": {},
   "outputs": [
    {
     "data": {
      "text/plain": [
       "[<matplotlib.lines.Line2D at 0x7f0c18d937c0>]"
      ]
     },
     "execution_count": 26,
     "metadata": {},
     "output_type": "execute_result"
    },
    {
     "data": {
      "image/png": "[encoded data removed]",
      "text/plain": [
       "<Figure size 432x288 with 1 Axes>"
      ]
     },
     "metadata": {
      "needs_background": "light"
     },
     "output_type": "display_data"
    }
   ],
   "source": [
    "plt.plot(training_logs['accuracy'])"
   ]
  },
  {
   "cell_type": "code",
   "execution_count": 27,
   "id": "f34d3324",
   "metadata": {},
   "outputs": [],
   "source": [
    "test_loader = DataLoader(test_dataset, batch_size=CFG.batch_size, shuffle=False,\n",
    "                          num_workers=CFG.num_workers, pin_memory=True, drop_last=False)"
   ]
  },
  {
   "cell_type": "code",
   "execution_count": 28,
   "id": "ae8da1f5",
   "metadata": {},
   "outputs": [],
   "source": [
    "torch.save(model.state_dict(), \"./last_model_wrn16-1.pt\")"
   ]
  },
  {
   "cell_type": "code",
   "execution_count": 29,
   "id": "c4d3fcd6",
   "metadata": {},
   "outputs": [
    {
     "data": {
      "text/plain": [
       "<All keys matched successfully>"
      ]
     },
     "execution_count": 29,
     "metadata": {},
     "output_type": "execute_result"
    }
   ],
   "source": [
    "model.load_state_dict(torch.load(\"./best_model_wrn16-1.pt\"))"
   ]
  },
  {
   "cell_type": "code",
   "execution_count": 30,
   "id": "6f98c946",
   "metadata": {},
   "outputs": [
    {
     "name": "stderr",
     "output_type": "stream",
     "text": [
      "100%|███████████████████████████████████████████████████████████████████████████████████████████████████████████████████████| 79/79 [00:00<00:00, 88.48it/s]\n"
     ]
    }
   ],
   "source": [
    "preds = []\n",
    "valid_labels = []\n",
    "\n",
    "model.eval()\n",
    "for step, (images, labels) in tqdm(enumerate(test_loader), total = len(test_loader)):\n",
    "\n",
    "    images = images.to(device, dtype=torch.float)\n",
    "    labels = labels.to(device)\n",
    "    batch_size = labels.size(0)\n",
    "\n",
    "    with torch.no_grad():\n",
    "        logits, features = model(images)\n",
    "        \n",
    "    preds.append(logits[0].softmax(1).to('cpu').numpy())\n",
    "    valid_labels.append(labels.to('cpu').numpy())\n",
    "\n",
    "predictions = np.concatenate(preds)\n",
    "valid_labels = np.concatenate(valid_labels)\n",
    "\n",
    "score = get_score(valid_labels, predictions.argmax(1))"
   ]
  },
  {
   "cell_type": "code",
   "execution_count": 31,
   "id": "6235d9a2",
   "metadata": {},
   "outputs": [
    {
     "name": "stderr",
     "output_type": "stream",
     "text": [
      "Test Accuracy: 0.9151\n"
     ]
    }
   ],
   "source": [
    "LOGGER.info(f\"Test Accuracy: {score:.4f}\")"
   ]
  },
  {
   "cell_type": "code",
   "execution_count": 32,
   "id": "7149ae4d",
   "metadata": {},
   "outputs": [
    {
     "name": "stderr",
     "output_type": "stream",
     "text": [
      "====================================================\n",
      "{'train_loss': [1.4603709660424127, 1.0136371316168042, 0.8590230514102511, 0.7555688737763299, 0.6961523152775234, 0.6603286766688029, 0.627522020371755, 0.6093545504675971, 0.5905324965582953, 0.5753065803527831, 0.5622498449431526, 0.5575500297758315, 0.5394604034953647, 0.5394661703745524, 0.5292831847508749, 0.5222794624752468, 0.5180523873858982, 0.5162806933508979, 0.5050119224442376, 0.5070373608006371, 0.5037206754101647, 0.5023860351721445, 0.49644405522876317, 0.4956972067726983, 0.49140721820195515, 0.4950863640361362, 0.4891209210289849, 0.48661317942407395, 0.47975730204052397, 0.47620320733918087, 0.4803048801951938, 0.47408764888445537, 0.47504741974936593, 0.47461063103146023, 0.4737983747164408, 0.4759691737969716, 0.46714857132699755, 0.46661342036989, 0.46625057391060726, 0.46809495708677507, 0.46530061706437004, 0.46289495401382447, 0.4627958182122972, 0.46508784472147624, 0.4655841357337104, 0.4566922509405348, 0.46424435387717355, 0.45610995875464544, 0.4557211139149136, 0.4552201871607039, 0.4568291293197208, 0.4563376542409261, 0.4486112221929762, 0.45338652301364474, 0.4552587533897824, 0.45485521341959634, 0.45191512478192647, 0.44888621643384297, 0.45048475476900735, 0.4470799787680308, 0.31569616979228127, 0.2788213996834225, 0.265863427066803, 0.2595945723719067, 0.25543649204572044, 0.2528340881135729, 0.25148915225134955, 0.2538575978861915, 0.25431123078399237, 0.25261671178076, 0.24964798455238343, 0.25286117066277397, 0.25495671174261303, 0.2542367144054837, 0.252197194676929, 0.2517695129394531, 0.25198726715511743, 0.25670592020087774, 0.2521620147069295, 0.254562328391605, 0.2528022998015086, 0.25795804602834915, 0.2550391724480523, 0.2522047166268031, 0.25608285545772974, 0.25585504286819033, 0.24706701899634467, 0.2528279149479336, 0.24859227504730225, 0.25213376993073355, 0.2523180014716254, 0.24908073698679606, 0.250005294669999, 0.256370642458068, 0.24930165690845912, 0.24882671132617526, 0.251363347196579, 0.24629626987775166, 0.24980534381071726, 0.24467670952479045, 0.2470506032731798, 0.24798641293843587, 0.2519032236470117, 0.23972360804610782, 0.2487933004564709, 0.24264512181282044, 0.24634982386695015, 0.24374358474413554, 0.24849199282858106, 0.2401630077653461, 0.2429246264298757, 0.24192509654362995, 0.24348399404419793, 0.2434667064136929, 0.2402905738035838, 0.23934256236818102, 0.2415519020928277, 0.23547261587248908, 0.2428246450185776, 0.24220444757673476, 0.16950266630119748, 0.14623320619530147, 0.13579385031196806, 0.1330134423600303, 0.12837551953527662, 0.1254223851972156, 0.12438933937682045, 0.11948182234896554, 0.11483394814067417, 0.11239898552364773, 0.11510093180868361, 0.1124407148083051, 0.11153528132836024, 0.11305455127292209, 0.10787264055675931, 0.10779653729862637, 0.10956981655226813, 0.10574069808589087, 0.10416473250256644, 0.1032147726562288, 0.10718442616926299, 0.10319228185547723, 0.10180364749166701, 0.10253535494274563, 0.10389876190688875, 0.10152557323243883, 0.10030131280422211, 0.10085773602194256, 0.10083835758633083, 0.0993130916873614, 0.09847046788533528, 0.10069083960851033, 0.09889117196400961, 0.1004234144171079, 0.10193176720407274, 0.10216881667772928, 0.09897194760772916, 0.09873082307444678, 0.1013944005171458, 0.09809377017418544, 0.07951256625586085, 0.07255702573458353, 0.06991367624402046, 0.06806519714726342, 0.0657303163766861, 0.061627825216452284, 0.06385856638219621, 0.0647680235962073, 0.06491998332341511, 0.06071592620611191, 0.05995807968510522, 0.06098457978301578, 0.061060369348526, 0.0605680291891098, 0.06035336198144489, 0.057489454344908396, 0.058325347112284764, 0.06029908166329066, 0.05618718450466792, 0.05860817920631833, 0.056593770642413034, 0.05756224065091875, 0.056879851700199976, 0.055596016061306, 0.0573598065217336, 0.05678503939509392, 0.056209259047110875, 0.053780560064315794, 0.05674108628431956, 0.053881119374434155, 0.05301043721768591, 0.054453609499666426, 0.052617066645622254, 0.05313002692858378, 0.053585553504692185, 0.053120431960953604, 0.052459679906235804, 0.05297185256878535, 0.05345675196217166, 0.053451840735144085], 'valid_loss': [1.119021901512146, 1.0519502059936523, 0.9856206782341004, 0.9291122027397156, 0.7260077501296998, 0.91687925863266, 0.740577126121521, 0.7467250678181648, 0.7727291776657105, 0.752618382358551, 0.6637437530517578, 0.7838070717811585, 0.9708965047836303, 0.6291257995605469, 0.7063786882400512, 0.6509376544952392, 0.7005186913490296, 0.7547759670257569, 1.007521746826172, 0.6754690385818481, 0.6469958248615265, 0.6114569582939148, 0.5521900068283081, 0.7434260481834412, 0.7575224456310272, 0.6597665383338929, 0.7443900716781616, 0.6398285799980163, 0.6463856857538224, 0.5812410096645355, 0.625044224357605, 0.5329517411708832, 0.6609106477737426, 0.5086501098871231, 0.7832953550338745, 0.5532673780441284, 0.6745934902667999, 0.5339586639404297, 0.6593042081832886, 0.6207051862478257, 0.6918013830184937, 0.6447264050006867, 0.75037310628891, 0.5607128705978394, 0.6295810357093811, 0.9129511325836182, 0.5634445518016815, 0.6614148971557617, 0.6331464157104493, 0.595248286819458, 0.6325298037528991, 0.6146424478054047, 0.559245453453064, 0.6340702119827271, 0.616515425992012, 0.5915597466468812, 0.6039908633232117, 0.4617655784487724, 0.7801574613571167, 0.5909981502532959, 0.3214336248397827, 0.30666370867490766, 0.3109596473753452, 0.3290232237815857, 0.3266805283546448, 0.31100511808395387, 0.31871722885370257, 0.3500484469652176, 0.31562478684186934, 0.34133125746250154, 0.34084133925437926, 0.3808475601196289, 0.38719258880615237, 0.3765196949005127, 0.34469263773560527, 0.3703320972442627, 0.3670304527282715, 0.3438192756175995, 0.3289370068073273, 0.3807976752281189, 0.3559025514125824, 0.3582816463708878, 0.38763073816299437, 0.340338717520237, 0.3526036115646362, 0.4400344647407532, 0.34989603930711743, 0.3587734477519989, 0.36751261546611785, 0.46831132240891454, 0.3486295708656311, 0.3530095146179199, 0.4031919651031494, 0.38641891698837283, 0.35884925010204316, 0.5609782669097185, 0.35177608976364133, 0.3466404069900513, 0.33132707266807554, 0.3383399826049805, 0.4117130146503448, 0.4271370156824589, 0.38988834761381147, 0.36287576065063476, 0.34582005310058594, 0.3470910146832466, 0.38811953761577606, 0.3580028847694397, 0.4028260304450989, 0.3395652739048004, 0.43017774442136286, 0.41639859838485715, 0.37057507257461547, 0.4254232355117798, 0.348861071395874, 0.34949923911094666, 0.3844484597325325, 0.3939048026561737, 0.3865680468559265, 0.3423280581533909, 0.2607122454404831, 0.2596452417135239, 0.25382066621780397, 0.2514172927856445, 0.24983834846019745, 0.25544964257478714, 0.25187910729646684, 0.25166617056131363, 0.2576270740687847, 0.27026345508098604, 0.25808522129058836, 0.25677059154510495, 0.26484908906817434, 0.25948873291015623, 0.259827754175663, 0.25641548464298247, 0.2651682622432709, 0.26233191703360065, 0.2705013349533081, 0.2724434164524078, 0.2675474762678146, 0.2837377947449684, 0.27779572339057923, 0.2625131930351257, 0.27473720496445897, 0.2879398675918579, 0.2834733533591032, 0.28294493598937986, 0.2924449628829956, 0.2705003620147705, 0.30594727306365965, 0.2958156581185758, 0.2852683919519186, 0.2942385572910309, 0.29701856422424316, 0.3060348903864622, 0.2964346903324127, 0.3022303973197937, 0.3007588216304779, 0.2868010222911835, 0.2603035742804408, 0.25883256101608276, 0.25765040229558944, 0.2554766067959368, 0.26135010356903077, 0.25677950401306154, 0.26063342542648316, 0.2651145567893982, 0.26201507749557496, 0.2612300168991089, 0.2647774965763092, 0.2647928225517273, 0.26240037408545613, 0.2622451675415039, 0.2629320933818817, 0.26348153824806214, 0.26239423020780084, 0.26852602737545966, 0.2659604294061661, 0.26176233184039593, 0.26430223548971116, 0.2672167101860046, 0.2601920710682869, 0.26720499455276875, 0.27020590353012086, 0.2645232255280018, 0.267151819331944, 0.2667326791763306, 0.26378282336285336, 0.2685863084793091, 0.26318410753011706, 0.2682174566831905, 0.2708427911758423, 0.2691069069504738, 0.2692792199134827, 0.27106940174102784, 0.27023473635911943, 0.26793673505783083, 0.2666508365213871, 0.2695956118926406], 'accuracy': [0.5946, 0.6298, 0.6702, 0.689, 0.75, 0.695, 0.7504, 0.75, 0.7412, 0.7416, 0.7748, 0.7506, 0.7022, 0.7952, 0.7656, 0.7832, 0.7696, 0.744, 0.694, 0.7784, 0.7768, 0.7956, 0.8118, 0.7458, 0.7492, 0.7744, 0.7608, 0.7806, 0.7764, 0.8032, 0.7854, 0.8212, 0.7774, 0.828, 0.7434, 0.8052, 0.7806, 0.8208, 0.774, 0.7904, 0.776, 0.7868, 0.7408, 0.8042, 0.7908, 0.7178, 0.8112, 0.7782, 0.7854, 0.7944, 0.7936, 0.7938, 0.8118, 0.788, 0.7828, 0.801, 0.7914, 0.8412, 0.754, 0.7982, 0.8896, 0.8932, 0.8918, 0.8894, 0.8876, 0.895, 0.8916, 0.8786, 0.8936, 0.8868, 0.8898, 0.8686, 0.8718, 0.8672, 0.884, 0.8756, 0.8766, 0.8854, 0.8894, 0.8694, 0.8786, 0.877, 0.8748, 0.8848, 0.8828, 0.8556, 0.883, 0.8832, 0.8834, 0.8496, 0.8828, 0.8852, 0.8668, 0.8694, 0.882, 0.8218, 0.8864, 0.8884, 0.887, 0.886, 0.866, 0.8592, 0.8724, 0.883, 0.8836, 0.882, 0.874, 0.884, 0.8648, 0.8854, 0.8626, 0.866, 0.8828, 0.861, 0.8846, 0.88, 0.8684, 0.8734, 0.871, 0.8846, 0.911, 0.9116, 0.9148, 0.9166, 0.9176, 0.9128, 0.9168, 0.92, 0.9156, 0.9158, 0.915, 0.9164, 0.918, 0.9164, 0.9174, 0.9166, 0.9168, 0.9184, 0.9142, 0.9166, 0.9158, 0.9136, 0.9178, 0.9182, 0.9164, 0.9152, 0.9138, 0.9156, 0.9128, 0.9176, 0.9068, 0.9104, 0.9148, 0.9098, 0.9122, 0.9088, 0.9088, 0.9084, 0.9094, 0.9144, 0.9208, 0.9206, 0.9224, 0.922, 0.9206, 0.9226, 0.92, 0.9202, 0.92, 0.92, 0.921, 0.9202, 0.9192, 0.9212, 0.9228, 0.9232, 0.9206, 0.9202, 0.92, 0.9238, 0.9196, 0.9222, 0.9218, 0.9242, 0.9222, 0.9216, 0.9194, 0.9212, 0.9214, 0.9202, 0.9218, 0.9178, 0.9208, 0.9222, 0.9178, 0.9212, 0.9224, 0.922, 0.9218, 0.9206]}\n"
     ]
    }
   ],
   "source": [
    "LOGGER.info(\"====================================================\")\n",
    "LOGGER.info(training_logs)"
   ]
  },
  {
   "cell_type": "code",
   "execution_count": null,
   "id": "b347bd2b",
   "metadata": {},
   "outputs": [],
   "source": []
  }
 ],
 "metadata": {
  "kernelspec": {
   "display_name": "Python 3 (ipykernel)",
   "language": "python",
   "name": "python3"
  },
  "language_info": {
   "codemirror_mode": {
    "name": "ipython",
    "version": 3
   },
   "file_extension": ".py",
   "mimetype": "text/x-python",
   "name": "python",
   "nbconvert_exporter": "python",
   "pygments_lexer": "ipython3",
   "version": "3.8.10"
  }
 },
 "nbformat": 4,
 "nbformat_minor": 5
}
